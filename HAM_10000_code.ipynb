{
  "cells": [
    {
      "cell_type": "markdown",
      "metadata": {
        "id": "YPtb2M1EaGoD"
      },
      "source": [
        "# Import Warnings"
      ]
    },
    {
      "cell_type": "code",
      "execution_count": null,
      "metadata": {
        "id": "z9NcQZQJZ5fM"
      },
      "outputs": [],
      "source": [
        "import warnings\n",
        "warnings.simplefilter(action=\"ignore\", category=FutureWarning)\n",
        "warnings.simplefilter(action=\"ignore\", category=UserWarning)\n",
        "warnings.simplefilter(action=\"ignore\", category=RuntimeWarning)\n",
        "warnings.simplefilter(action='ignore', category=DeprecationWarning)"
      ]
    },
    {
      "cell_type": "markdown",
      "metadata": {
        "id": "OIaiaHbdaJtD"
      },
      "source": [
        "# Import Packages"
      ]
    },
    {
      "cell_type": "code",
      "execution_count": null,
      "metadata": {
        "id": "wtk0eoP7rJRM",
        "colab": {
          "base_uri": "https://localhost:8080/"
        },
        "outputId": "ff938487-776a-45b7-865f-bbab01204145"
      },
      "outputs": [
        {
          "output_type": "stream",
          "name": "stdout",
          "text": [
            "Mounted at /content/gdrive\n"
          ]
        }
      ],
      "source": [
        "\n",
        "from google.colab import drive\n",
        "drive.mount('/content/gdrive', force_remount=True)"
      ]
    },
    {
      "cell_type": "code",
      "execution_count": null,
      "metadata": {
        "id": "GplS9m4faL6k"
      },
      "outputs": [],
      "source": [
        "import numpy as np\n",
        "import pandas as pd\n",
        "\n",
        "import io\n",
        "import os\n",
        "import tensorflow as tf\n",
        "\n",
        "from PIL import Image\n",
        "from glob import glob\n",
        "import itertools\n",
        "\n",
        "import plotly.graph_objects as go\n",
        "import plotly.express as px\n",
        "from plotly.subplots import make_subplots\n",
        "import matplotlib.pyplot as plt\n",
        "import seaborn as sns\n",
        "import pickle\n",
        "\n",
        "import os\n",
        "\n",
        "import numpy as np\n",
        "from PIL import ImageFile\n",
        "ImageFile.LOAD_TRUNCATED_IMAGES = True\n",
        "from itertools import islice\n",
        "\n",
        "from sklearn.utils import shuffle as skf\n",
        "import keras\n",
        "\n",
        "import tensorflow as tf\n",
        "from tensorflow.keras.preprocessing.image import ImageDataGenerator\n",
        "from tensorflow.keras.models import Sequential\n",
        "from tensorflow.keras.layers import Conv2D, Flatten, BatchNormalization, Dropout, Dense, MaxPool2D\n",
        "from tensorflow.keras.callbacks import ReduceLROnPlateau, EarlyStopping\n",
        "\n",
        "from keras import layers\n",
        "from keras import models\n",
        "from keras import optimizers\n",
        "from keras import backend as K\n",
        "\n",
        "from keras.models import Sequential\n",
        "from keras.layers import Conv2D, MaxPooling2D, Dense, Flatten, Dropout\n",
        "from keras.preprocessing.image import ImageDataGenerator\n",
        "import pandas as pd\n",
        "\n",
        "from sklearn.model_selection import train_test_split\n",
        "from sklearn.metrics import classification_report, confusion_matrix\n",
        "\n",
        "from IPython.display import display\n",
        "#To see the value of multiple statements at once.\n",
        "from IPython.core.interactiveshell import InteractiveShell\n",
        "InteractiveShell.ast_node_interactivity = \"all\"\n",
        "\n",
        "from sklearn import datasets\n",
        "\n",
        "from keras.callbacks import EarlyStopping\n",
        "from keras import backend as K\n",
        "import matplotlib.pyplot as plt\n",
        "from sklearn.model_selection import train_test_split\n",
        "import pandas as pd\n",
        "from tensorflow.keras.models import Sequential,load_model\n",
        "from tensorflow.keras.layers import Dense,Dropout\n",
        "from numpy import dstack\n"
      ]
    },
    {
      "cell_type": "markdown",
      "metadata": {
        "id": "HZe_WGDae8Nq"
      },
      "source": [
        "# Preparing data for train,test,validation"
      ]
    },
    {
      "cell_type": "code",
      "execution_count": null,
      "metadata": {
        "id": "t-c_sjD8Et9w"
      },
      "outputs": [],
      "source": [
        "%%capture\n",
        "!unzip /content/gdrive/MyDrive/HAM_test_data.zip"
      ]
    },
    {
      "cell_type": "code",
      "execution_count": null,
      "metadata": {
        "id": "yq7vouoyE089"
      },
      "outputs": [],
      "source": [
        "%%capture\n",
        "!unzip /content/gdrive/MyDrive/Data/HAM_val_data.zip"
      ]
    },
    {
      "cell_type": "code",
      "execution_count": null,
      "metadata": {
        "id": "bk3t60ZkRH-O"
      },
      "outputs": [],
      "source": [
        "%%capture\n",
        "!unzip /content/gdrive/MyDrive/Data/HAM_train_data.zip"
      ]
    },
    {
      "cell_type": "code",
      "execution_count": null,
      "metadata": {
        "id": "JwQVMXVkfSW4",
        "colab": {
          "base_uri": "https://localhost:8080/"
        },
        "outputId": "495864dd-be79-4173-a0da-7f2f049a6525"
      },
      "outputs": [
        {
          "output_type": "stream",
          "name": "stdout",
          "text": [
            "Found 8344 images belonging to 7 classes.\n"
          ]
        }
      ],
      "source": [
        "# src_path_train = \"/content/HAM_train_data\"\n",
        "src_path_test=\"/content/HAM_test_data\"\n",
        "# src_path_val=\"/content/HAM_val_data\"\n",
        "\n",
        "\n",
        "train_datagen = ImageDataGenerator(rescale = 1./255,\n",
        "                                  rotation_range = 10,\n",
        "                                  width_shift_range = 0.2,\n",
        "                                  height_shift_range = 0.2,\n",
        "                                  shear_range = 0.2,\n",
        "                                  horizontal_flip = True,\n",
        "                                  vertical_flip = True,\n",
        "                                  fill_mode = 'nearest')\n",
        "\n",
        "\n",
        "test_datagen=ImageDataGenerator(rescale=1/255.0)\n",
        "\n",
        "batch_size = 64\n",
        "# train_generator = train_datagen.flow_from_directory(\n",
        "\n",
        "#     directory=src_path_train,\n",
        "#     target_size=(75,75),\n",
        "#     batch_size=batch_size,\n",
        "#     color_mode=\"rgb\",\n",
        "#     class_mode=\"categorical\",\n",
        "#     shuffle=True\n",
        "# )\n",
        "\n",
        "# valid_generator = test_datagen.flow_from_directory(\n",
        "#         directory=src_path_val,\n",
        "#         target_size=(75, 75),\n",
        "#         batch_size=64,\n",
        "#         color_mode=\"rgb\",\n",
        "#         shuffle=True,\n",
        "#         class_mode=\"categorical\"\n",
        "# )\n",
        "\n",
        "test_generator=test_datagen.flow_from_directory(\n",
        "    directory=src_path_test,\n",
        "    target_size=(75,75),\n",
        "    batch_size=64,\n",
        "    color_mode=\"rgb\",\n",
        "    shuffle=False,\n",
        "    class_mode=\"categorical\",\n",
        ")\n"
      ]
    },
    {
      "cell_type": "code",
      "execution_count": null,
      "metadata": {
        "id": "zyCIMZOtfWON"
      },
      "outputs": [],
      "source": [
        "num_of_train_samples = 27873\n",
        "num_of_val_samples= 6671\n",
        "num_of_test_samples = 8344"
      ]
    },
    {
      "cell_type": "code",
      "source": [
        "import os\n",
        "\n",
        "directory_path = src_path_train\n",
        "\n",
        "subdirectory_image_count = {}\n",
        "\n",
        "for subdir in os.listdir(directory_path):\n",
        "    subdir_path = os.path.join(directory_path, subdir)\n",
        "    if os.path.isdir(subdir_path):\n",
        "        image_count = len([file for file in os.listdir(subdir_path) if file.lower().endswith(('.jpg', '.jpeg', '.png', '.gif'))])\n",
        "        subdirectory_image_count[subdir] = image_count\n",
        "\n",
        "for subdir, count in subdirectory_image_count.items():\n",
        "    print(f\"Subdirectory '{subdir}' contains {count} images.\")\n"
      ],
      "metadata": {
        "colab": {
          "base_uri": "https://localhost:8080/"
        },
        "id": "rdkWi2LagmBu",
        "outputId": "ddf28e9c-b876-4b73-a3c2-0af1d414e199"
      },
      "execution_count": null,
      "outputs": [
        {
          "output_type": "stream",
          "name": "stdout",
          "text": [
            "Subdirectory 'akiec' contains 4141 images.\n",
            "Subdirectory 'nv' contains 4560 images.\n",
            "Subdirectory 'bcc' contains 3521 images.\n",
            "Subdirectory 'df' contains 3016 images.\n",
            "Subdirectory 'mel' contains 4236 images.\n",
            "Subdirectory 'vasc' contains 4169 images.\n",
            "Subdirectory 'bkl' contains 4230 images.\n"
          ]
        }
      ]
    },
    {
      "cell_type": "code",
      "source": [
        "import os\n",
        "\n",
        "directory_path = src_path_test\n",
        "\n",
        "subdirectory_image_count = {}\n",
        "\n",
        "for subdir in os.listdir(directory_path):\n",
        "    subdir_path = os.path.join(directory_path, subdir)\n",
        "    if os.path.isdir(subdir_path):\n",
        "        image_count = len([file for file in os.listdir(subdir_path) if file.lower().endswith(('.jpg', '.jpeg', '.png', '.gif'))])\n",
        "        subdirectory_image_count[subdir] = image_count\n",
        "\n",
        "for subdir, count in subdirectory_image_count.items():\n",
        "    print(f\"Subdirectory '{subdir}' contains {count} images.\")\n"
      ],
      "metadata": {
        "colab": {
          "base_uri": "https://localhost:8080/"
        },
        "id": "oF0fzv-6gudi",
        "outputId": "d0426e7a-f18f-4584-bf5c-c90043df7a6b"
      },
      "execution_count": null,
      "outputs": [
        {
          "output_type": "stream",
          "name": "stdout",
          "text": [
            "Subdirectory 'akiec' contains 1192 images.\n",
            "Subdirectory 'nv' contains 1192 images.\n",
            "Subdirectory 'bcc' contains 1192 images.\n",
            "Subdirectory 'df' contains 1192 images.\n",
            "Subdirectory 'mel' contains 1192 images.\n",
            "Subdirectory 'vasc' contains 1192 images.\n",
            "Subdirectory 'bkl' contains 1192 images.\n"
          ]
        }
      ]
    },
    {
      "cell_type": "code",
      "source": [
        "import os\n",
        "\n",
        "directory_path = src_path_val\n",
        "\n",
        "subdirectory_image_count = {}\n",
        "\n",
        "for subdir in os.listdir(directory_path):\n",
        "    subdir_path = os.path.join(directory_path, subdir)\n",
        "    if os.path.isdir(subdir_path):\n",
        "        image_count = len([file for file in os.listdir(subdir_path) if file.lower().endswith(('.jpg', '.jpeg', '.png', '.gif'))])\n",
        "        subdirectory_image_count[subdir] = image_count\n",
        "\n",
        "for subdir, count in subdirectory_image_count.items():\n",
        "    print(f\"Subdirectory '{subdir}' contains {count} images.\")\n"
      ],
      "metadata": {
        "colab": {
          "base_uri": "https://localhost:8080/"
        },
        "id": "vfEF9TKjguSU",
        "outputId": "1c9564af-70eb-4cbc-941b-aeb7ab81ff1e"
      },
      "execution_count": null,
      "outputs": [
        {
          "output_type": "stream",
          "name": "stdout",
          "text": [
            "Subdirectory 'akiec' contains 953 images.\n",
            "Subdirectory 'nv' contains 953 images.\n",
            "Subdirectory 'bcc' contains 953 images.\n",
            "Subdirectory 'df' contains 953 images.\n",
            "Subdirectory 'mel' contains 953 images.\n",
            "Subdirectory 'vasc' contains 953 images.\n",
            "Subdirectory 'bkl' contains 953 images.\n"
          ]
        }
      ]
    },
    {
      "cell_type": "code",
      "execution_count": null,
      "metadata": {
        "colab": {
          "base_uri": "https://localhost:8080/",
          "height": 128
        },
        "id": "us2443p2YLGw",
        "outputId": "a29cb396-a142-4e21-8f20-bb889bf7e4bd"
      },
      "outputs": [
        {
          "output_type": "display_data",
          "data": {
            "text/plain": [
              "<Figure size 800x600 with 7 Axes>"
            ],
            "image/png": "[encoded data removed]"
          },
          "metadata": {}
        }
      ],
      "source": [
        "\n",
        "\n",
        "# get one image from each class\n",
        "class_indices = train_generator.class_indices\n",
        "num_classes = len(class_indices)\n",
        "sample_images = {}\n",
        "for class_name, class_idx in class_indices.items():\n",
        "    # get one image from the class\n",
        "    found = False\n",
        "    while not found:\n",
        "        batch = train_generator.next()\n",
        "        images, labels = batch\n",
        "        class_mask = labels[:, class_idx] == 1\n",
        "        class_images = images[class_mask]\n",
        "        if len(class_images) > 0:\n",
        "            sample_images[class_name] = class_images[0]\n",
        "            found = True\n",
        "\n",
        "# plot the sample images\n",
        "fig, axes = plt.subplots(1, num_classes, figsize=(8, 6))\n",
        "for i, (class_name, image) in enumerate(sample_images.items()):\n",
        "    axes[i].imshow(image)\n",
        "    axes[i].set_title(class_name.upper(),fontsize = 8)\n",
        "    axes[i].axis('off')\n",
        "plt.show();\n"
      ]
    },
    {
      "cell_type": "code",
      "source": [
        "import matplotlib.pyplot as plt\n",
        "\n",
        "class_indices = train_generator.class_indices\n",
        "num_classes = len(class_indices)\n",
        "sample_images = {}\n",
        "\n",
        "for class_name, class_idx in class_indices.items():\n",
        "    found = False\n",
        "    while not found:\n",
        "        batch = train_generator.next()\n",
        "        images, labels = batch\n",
        "        class_mask = labels[:, class_idx] == 1\n",
        "        class_images = images[class_mask]\n",
        "        if len(class_images) > 0:\n",
        "            sample_images[class_name] = class_images[0]\n",
        "            found = True\n",
        "\n",
        "fig, axes = plt.subplots(num_classes, 1, figsize=(5, 15))\n",
        "for i, (class_name, image) in enumerate(sample_images.items()):\n",
        "    axes[i].imshow(image)\n",
        "    axes[i].set_title(class_name.upper(), y=-0.15)\n",
        "    axes[i].axis('off')\n",
        "\n",
        "plt.tight_layout()\n",
        "plt.show()\n"
      ],
      "metadata": {
        "id": "NIEBXV5ug31m"
      },
      "execution_count": null,
      "outputs": []
    },
    {
      "cell_type": "markdown",
      "metadata": {
        "id": "egVqQSClqxuk"
      },
      "source": [
        "# ResNet152V2 Model"
      ]
    },
    {
      "cell_type": "code",
      "execution_count": null,
      "metadata": {
        "id": "F_EtI04nquYM",
        "colab": {
          "base_uri": "https://localhost:8080/"
        },
        "outputId": "096ced1c-2d91-48ee-b9de-a50091a05334"
      },
      "outputs": [
        {
          "output_type": "stream",
          "name": "stdout",
          "text": [
            "Downloading data from https://storage.googleapis.com/tensorflow/keras-applications/resnet/resnet152v2_weights_tf_dim_ordering_tf_kernels_notop.h5\n",
            "234545216/234545216 [==============================] - 7s 0us/step\n",
            "Model: \"sequential\"\n",
            "_________________________________________________________________\n",
            " Layer (type)                Output Shape              Param #   \n",
            "=================================================================\n",
            " resnet152v2 (Functional)    (None, 3, 3, 2048)        58331648  \n",
            "                                                                 \n",
            "=================================================================\n",
            "Total params: 58,331,648\n",
            "Trainable params: 25,034,752\n",
            "Non-trainable params: 33,296,896\n",
            "_________________________________________________________________\n"
          ]
        }
      ],
      "source": [
        "import tensorflow as tf\n",
        "base_model=tf.keras.applications.ResNet152V2(\n",
        "    include_top=False,\n",
        "    weights=\"imagenet\",\n",
        "    input_shape=(75,75,3)\n",
        ")\n",
        "\n",
        "\n",
        "for layer in base_model.layers[:427]:\n",
        "    layer.trainable=False\n",
        "\n",
        "\n",
        "temp_model=tf.keras.models.Sequential()\n",
        "temp_model.add(base_model)\n",
        "temp_model.summary()\n",
        "\n"
      ]
    },
    {
      "cell_type": "markdown",
      "metadata": {
        "id": "b40LGx5jvWTV"
      },
      "source": [
        "# Xception Model"
      ]
    },
    {
      "cell_type": "code",
      "execution_count": null,
      "metadata": {
        "colab": {
          "base_uri": "https://localhost:8080/"
        },
        "id": "2kNqdzDOvVkp",
        "outputId": "3644290f-89d8-43f4-c002-ccc12608fe2b"
      },
      "outputs": [
        {
          "name": "stdout",
          "output_type": "stream",
          "text": [
            "Downloading data from https://storage.googleapis.com/tensorflow/keras-applications/xception/xception_weights_tf_dim_ordering_tf_kernels_notop.h5\n",
            "83683744/83683744 [==============================] - 1s 0us/step\n",
            "Model: \"sequential\"\n",
            "_________________________________________________________________\n",
            " Layer (type)                Output Shape              Param #   \n",
            "=================================================================\n",
            " xception (Functional)       (None, 3, 3, 2048)        20861480  \n",
            "                                                                 \n",
            "=================================================================\n",
            "Total params: 20,861,480\n",
            "Trainable params: 13,782,280\n",
            "Non-trainable params: 7,079,200\n",
            "_________________________________________________________________\n"
          ]
        }
      ],
      "source": [
        "import tensorflow as tf\n",
        "base_model=tf.keras.applications.Xception(\n",
        "    include_top=False,\n",
        "    weights=\"imagenet\",\n",
        "    input_shape=(75,75,3)\n",
        ")\n",
        "\n",
        "\n",
        "for layer in base_model.layers[:72]:\n",
        "    layer.trainable=False\n",
        "\n",
        "\n",
        "temp_model=tf.keras.models.Sequential()\n",
        "temp_model.add(base_model)\n",
        "temp_model.summary()\n",
        "\n"
      ]
    },
    {
      "cell_type": "markdown",
      "metadata": {
        "id": "HYUF_KanuwYc"
      },
      "source": [
        "# InceptionResNetV2"
      ]
    },
    {
      "cell_type": "code",
      "execution_count": null,
      "metadata": {
        "colab": {
          "base_uri": "https://localhost:8080/"
        },
        "id": "asjGlOQluy5F",
        "outputId": "97726ed1-fb29-4828-b904-a994ef525f69"
      },
      "outputs": [
        {
          "name": "stdout",
          "output_type": "stream",
          "text": [
            "Downloading data from https://storage.googleapis.com/tensorflow/keras-applications/inception_resnet_v2/inception_resnet_v2_weights_tf_dim_ordering_tf_kernels_notop.h5\n",
            "219055592/219055592 [==============================] - 1s 0us/step\n",
            "Model: \"sequential_2\"\n",
            "_________________________________________________________________\n",
            " Layer (type)                Output Shape              Param #   \n",
            "=================================================================\n",
            " inception_resnet_v2 (Functi  (None, 1, 1, 1536)       54336736  \n",
            " onal)                                                           \n",
            "                                                                 \n",
            "=================================================================\n",
            "Total params: 54,336,736\n",
            "Trainable params: 30,516,352\n",
            "Non-trainable params: 23,820,384\n",
            "_________________________________________________________________\n"
          ]
        }
      ],
      "source": [
        "import tensorflow as tf\n",
        "base_model=tf.keras.applications.InceptionResNetV2(\n",
        "    include_top=False,\n",
        "    weights=\"imagenet\",\n",
        "    input_shape=(75,75,3)\n",
        ")\n",
        "\n",
        "\n",
        "for layer in base_model.layers[:553]:\n",
        "    layer.trainable=False\n",
        "\n",
        "\n",
        "\n",
        "temp_model=tf.keras.models.Sequential()\n",
        "temp_model.add(base_model)\n",
        "temp_model.summary()\n",
        "\n"
      ]
    },
    {
      "cell_type": "markdown",
      "metadata": {
        "id": "1u8lBR70uNhl"
      },
      "source": [
        "# ResNet101V2 Model\n"
      ]
    },
    {
      "cell_type": "code",
      "execution_count": null,
      "metadata": {
        "colab": {
          "base_uri": "https://localhost:8080/"
        },
        "id": "IQua5mSMt7f-",
        "outputId": "ee8970af-ce29-4dad-aa33-febb64f4d878"
      },
      "outputs": [
        {
          "name": "stdout",
          "output_type": "stream",
          "text": [
            "Downloading data from https://storage.googleapis.com/tensorflow/keras-applications/resnet/resnet101v2_weights_tf_dim_ordering_tf_kernels_notop.h5\n",
            "171317808/171317808 [==============================] - 1s 0us/step\n",
            "Model: \"sequential_4\"\n",
            "_________________________________________________________________\n",
            " Layer (type)                Output Shape              Param #   \n",
            "=================================================================\n",
            " resnet101v2 (Functional)    (None, 3, 3, 2048)        42626560  \n",
            "                                                                 \n",
            "=================================================================\n",
            "Total params: 42,626,560\n",
            "Trainable params: 19,707,392\n",
            "Non-trainable params: 22,919,168\n",
            "_________________________________________________________________\n"
          ]
        }
      ],
      "source": [
        "import tensorflow as tf\n",
        "base_model=tf.keras.applications.ResNet101V2(\n",
        "    include_top=False,\n",
        "    weights=\"imagenet\",\n",
        "    input_shape=(75,75,3)\n",
        ")\n",
        "\n",
        "\n",
        "for layer in base_model.layers[:292]:\n",
        "    layer.trainable=False\n",
        "\n",
        "\n",
        "temp_model=tf.keras.models.Sequential()\n",
        "temp_model.add(base_model)\n",
        "temp_model.summary()\n",
        "\n"
      ]
    },
    {
      "cell_type": "markdown",
      "metadata": {
        "id": "GlXY87C6uO8J"
      },
      "source": [
        "# ResNet50V2 Model\n"
      ]
    },
    {
      "cell_type": "code",
      "execution_count": null,
      "metadata": {
        "colab": {
          "base_uri": "https://localhost:8080/"
        },
        "id": "ySGOkHOqu4qT",
        "outputId": "2faebf96-d019-4181-f513-5d1f6d727cb0"
      },
      "outputs": [
        {
          "name": "stdout",
          "output_type": "stream",
          "text": [
            "Model: \"sequential_10\"\n",
            "_________________________________________________________________\n",
            " Layer (type)                Output Shape              Param #   \n",
            "=================================================================\n",
            " resnet50v2 (Functional)     (None, 3, 3, 2048)        23564800  \n",
            "                                                                 \n",
            "=================================================================\n",
            "Total params: 23,564,800\n",
            "Trainable params: 15,824,384\n",
            "Non-trainable params: 7,740,416\n",
            "_________________________________________________________________\n"
          ]
        }
      ],
      "source": [
        "import tensorflow as tf\n",
        "base_model=tf.keras.applications.ResNet50V2(\n",
        "    include_top=False,\n",
        "    weights=\"imagenet\",\n",
        "    input_shape=(75,75,3)\n",
        ")\n",
        "\n",
        "# count=0\n",
        "for layer in bas_model.layers[:148]:\n",
        "    layer.trainable=False\n",
        "\n",
        "\n",
        "temp_model=tf.keras.models.Sequential()\n",
        "temp_model.add(bas_model)\n",
        "temp_model.summary()\n",
        "\n"
      ]
    },
    {
      "cell_type": "markdown",
      "metadata": {
        "id": "MJChRgrhxgCv"
      },
      "source": [
        "# Feed Forward Network-The Classifier"
      ]
    },
    {
      "cell_type": "code",
      "execution_count": null,
      "metadata": {
        "id": "vep_TzUNrZXg",
        "colab": {
          "base_uri": "https://localhost:8080/"
        },
        "outputId": "09cbf622-bb6d-43ac-a529-f249c07efd7f"
      },
      "outputs": [
        {
          "output_type": "stream",
          "name": "stdout",
          "text": [
            "Model: \"sequential_1\"\n",
            "_________________________________________________________________\n",
            " Layer (type)                Output Shape              Param #   \n",
            "=================================================================\n",
            " resnet152v2 (Functional)    (None, 3, 3, 2048)        58331648  \n",
            "                                                                 \n",
            " global_average_pooling2d (G  (None, 2048)             0         \n",
            " lobalAveragePooling2D)                                          \n",
            "                                                                 \n",
            " dropout (Dropout)           (None, 2048)              0         \n",
            "                                                                 \n",
            " dense (Dense)               (None, 1024)              2098176   \n",
            "                                                                 \n",
            " dropout_1 (Dropout)         (None, 1024)              0         \n",
            "                                                                 \n",
            " dense_1 (Dense)             (None, 64)                65600     \n",
            "                                                                 \n",
            " dropout_2 (Dropout)         (None, 64)                0         \n",
            "                                                                 \n",
            " dense_2 (Dense)             (None, 7)                 455       \n",
            "                                                                 \n",
            "=================================================================\n",
            "Total params: 60,495,879\n",
            "Trainable params: 27,198,983\n",
            "Non-trainable params: 33,296,896\n",
            "_________________________________________________________________\n",
            "None\n"
          ]
        }
      ],
      "source": [
        "model=Sequential()\n",
        "model.add(base_model)\n",
        "model.add(tf.keras.layers.GlobalAveragePooling2D())\n",
        "model.add(tf.keras.layers.Dropout(0.2))\n",
        "model.add(Dense(1024,activation='relu'))\n",
        "model.add(tf.keras.layers.Dropout(0.2))\n",
        "model.add(Dense(64,activation='relu'))\n",
        "model.add(tf.keras.layers.Dropout(0.1))\n",
        "model.add(Dense(7, activation='softmax'))\n",
        "\n",
        "optimizer = tf.keras.optimizers.Adam(learning_rate=0.0005)\n",
        "\n",
        "model.compile(loss = 'categorical_crossentropy',\n",
        "                 optimizer = optimizer,\n",
        "                  metrics =['Accuracy','AUC','Precision','Recall'])\n",
        "print(model.summary())\n"
      ]
    },
    {
      "cell_type": "code",
      "execution_count": null,
      "metadata": {
        "id": "y-6TaZqOKm__",
        "colab": {
          "base_uri": "https://localhost:8080/"
        },
        "outputId": "c78103f4-9828-4086-f8af-26763518a403"
      },
      "outputs": [
        {
          "output_type": "stream",
          "name": "stdout",
          "text": [
            "Epoch 1/50\n",
            "435/435 [==============================] - 262s 500ms/step - loss: 1.1348 - Accuracy: 0.5720 - auc: 0.8912 - precision: 0.7312 - recall: 0.3986 - val_loss: 1.1934 - val_Accuracy: 0.5766 - val_auc: 0.8917 - val_precision: 0.6611 - val_recall: 0.4651\n",
            "Epoch 2/50\n",
            "435/435 [==============================] - 185s 424ms/step - loss: 0.8367 - Accuracy: 0.6840 - auc: 0.9413 - precision: 0.7734 - recall: 0.5720 - val_loss: 0.7222 - val_Accuracy: 0.7324 - val_auc: 0.9566 - val_precision: 0.8271 - val_recall: 0.6203\n",
            "Epoch 3/50\n",
            "435/435 [==============================] - 172s 395ms/step - loss: 0.7182 - Accuracy: 0.7310 - auc: 0.9563 - precision: 0.8049 - recall: 0.6432 - val_loss: 0.5828 - val_Accuracy: 0.7816 - val_auc: 0.9714 - val_precision: 0.8436 - val_recall: 0.7115\n",
            "Epoch 4/50\n",
            "435/435 [==============================] - 193s 444ms/step - loss: 0.6357 - Accuracy: 0.7652 - auc: 0.9653 - precision: 0.8272 - recall: 0.6950 - val_loss: 0.5297 - val_Accuracy: 0.8026 - val_auc: 0.9754 - val_precision: 0.8442 - val_recall: 0.7604\n",
            "Epoch 5/50\n",
            "435/435 [==============================] - 174s 400ms/step - loss: 0.5720 - Accuracy: 0.7900 - auc: 0.9716 - precision: 0.8395 - recall: 0.7308 - val_loss: 0.4544 - val_Accuracy: 0.8331 - val_auc: 0.9812 - val_precision: 0.8639 - val_recall: 0.8039\n",
            "Epoch 6/50\n",
            "435/435 [==============================] - 171s 393ms/step - loss: 0.5227 - Accuracy: 0.8070 - auc: 0.9760 - precision: 0.8513 - recall: 0.7565 - val_loss: 0.5652 - val_Accuracy: 0.7918 - val_auc: 0.9721 - val_precision: 0.8334 - val_recall: 0.7521\n",
            "Epoch 7/50\n",
            "435/435 [==============================] - 169s 388ms/step - loss: 0.4753 - Accuracy: 0.8249 - auc: 0.9799 - precision: 0.8623 - recall: 0.7824 - val_loss: 0.4209 - val_Accuracy: 0.8422 - val_auc: 0.9842 - val_precision: 0.8708 - val_recall: 0.8185\n",
            "Epoch 8/50\n",
            "435/435 [==============================] - 167s 384ms/step - loss: 0.4324 - Accuracy: 0.8427 - auc: 0.9831 - precision: 0.8740 - recall: 0.8093 - val_loss: 0.4362 - val_Accuracy: 0.8415 - val_auc: 0.9827 - val_precision: 0.8618 - val_recall: 0.8215\n",
            "Epoch 9/50\n",
            "435/435 [==============================] - 168s 385ms/step - loss: 0.4055 - Accuracy: 0.8530 - auc: 0.9849 - precision: 0.8819 - recall: 0.8232 - val_loss: 0.3477 - val_Accuracy: 0.8685 - val_auc: 0.9886 - val_precision: 0.8900 - val_recall: 0.8484\n",
            "Epoch 10/50\n",
            "435/435 [==============================] - 165s 380ms/step - loss: 0.3807 - Accuracy: 0.8609 - auc: 0.9864 - precision: 0.8858 - recall: 0.8340 - val_loss: 0.3542 - val_Accuracy: 0.8664 - val_auc: 0.9879 - val_precision: 0.8838 - val_recall: 0.8513\n",
            "Epoch 11/50\n",
            "435/435 [==============================] - 190s 436ms/step - loss: 0.3559 - Accuracy: 0.8699 - auc: 0.9881 - precision: 0.8928 - recall: 0.8451 - val_loss: 0.2998 - val_Accuracy: 0.8908 - val_auc: 0.9911 - val_precision: 0.9034 - val_recall: 0.8777\n",
            "Epoch 12/50\n",
            "435/435 [==============================] - 188s 432ms/step - loss: 0.3377 - Accuracy: 0.8777 - auc: 0.9890 - precision: 0.8986 - recall: 0.8566 - val_loss: 0.3210 - val_Accuracy: 0.8827 - val_auc: 0.9898 - val_precision: 0.8970 - val_recall: 0.8679\n",
            "Epoch 13/50\n",
            "435/435 [==============================] - 172s 395ms/step - loss: 0.3143 - Accuracy: 0.8862 - auc: 0.9903 - precision: 0.9036 - recall: 0.8678 - val_loss: 0.3365 - val_Accuracy: 0.8843 - val_auc: 0.9878 - val_precision: 0.8963 - val_recall: 0.8729\n",
            "Epoch 14/50\n",
            "435/435 [==============================] - 170s 391ms/step - loss: 0.2946 - Accuracy: 0.8928 - auc: 0.9915 - precision: 0.9084 - recall: 0.8762 - val_loss: 0.2533 - val_Accuracy: 0.9049 - val_auc: 0.9933 - val_precision: 0.9147 - val_recall: 0.8969\n",
            "Epoch 15/50\n",
            "435/435 [==============================] - 192s 441ms/step - loss: 0.2703 - Accuracy: 0.9025 - auc: 0.9926 - precision: 0.9156 - recall: 0.8900 - val_loss: 0.2825 - val_Accuracy: 0.9001 - val_auc: 0.9908 - val_precision: 0.9094 - val_recall: 0.8932\n",
            "Epoch 16/50\n",
            "435/435 [==============================] - 192s 440ms/step - loss: 0.2660 - Accuracy: 0.9038 - auc: 0.9928 - precision: 0.9167 - recall: 0.8907 - val_loss: 0.2290 - val_Accuracy: 0.9138 - val_auc: 0.9942 - val_precision: 0.9217 - val_recall: 0.9070\n",
            "Epoch 17/50\n",
            "435/435 [==============================] - 171s 394ms/step - loss: 0.2546 - Accuracy: 0.9095 - auc: 0.9932 - precision: 0.9231 - recall: 0.8960 - val_loss: 0.2466 - val_Accuracy: 0.9145 - val_auc: 0.9927 - val_precision: 0.9201 - val_recall: 0.9096\n",
            "Epoch 18/50\n",
            "435/435 [==============================] - 191s 439ms/step - loss: 0.2396 - Accuracy: 0.9136 - auc: 0.9938 - precision: 0.9236 - recall: 0.9029 - val_loss: 0.2416 - val_Accuracy: 0.9141 - val_auc: 0.9931 - val_precision: 0.9189 - val_recall: 0.9079\n",
            "Epoch 19/50\n",
            "435/435 [==============================] - 193s 444ms/step - loss: 0.2246 - Accuracy: 0.9196 - auc: 0.9944 - precision: 0.9302 - recall: 0.9110 - val_loss: 0.2244 - val_Accuracy: 0.9253 - val_auc: 0.9934 - val_precision: 0.9294 - val_recall: 0.9220\n",
            "Epoch 20/50\n",
            "435/435 [==============================] - 188s 433ms/step - loss: 0.2223 - Accuracy: 0.9205 - auc: 0.9944 - precision: 0.9315 - recall: 0.9107 - val_loss: 0.2098 - val_Accuracy: 0.9217 - val_auc: 0.9948 - val_precision: 0.9301 - val_recall: 0.9156\n",
            "Epoch 21/50\n",
            "435/435 [==============================] - 172s 395ms/step - loss: 0.2045 - Accuracy: 0.9270 - auc: 0.9953 - precision: 0.9359 - recall: 0.9190 - val_loss: 0.1941 - val_Accuracy: 0.9342 - val_auc: 0.9949 - val_precision: 0.9400 - val_recall: 0.9295\n",
            "Epoch 22/50\n",
            "435/435 [==============================] - 166s 380ms/step - loss: 0.1970 - Accuracy: 0.9303 - auc: 0.9956 - precision: 0.9390 - recall: 0.9228 - val_loss: 0.2276 - val_Accuracy: 0.9235 - val_auc: 0.9930 - val_precision: 0.9278 - val_recall: 0.9190\n",
            "Epoch 23/50\n",
            "435/435 [==============================] - 188s 431ms/step - loss: 0.1951 - Accuracy: 0.9321 - auc: 0.9954 - precision: 0.9399 - recall: 0.9236 - val_loss: 0.1878 - val_Accuracy: 0.9411 - val_auc: 0.9948 - val_precision: 0.9450 - val_recall: 0.9375\n",
            "Epoch 24/50\n",
            "435/435 [==============================] - 165s 379ms/step - loss: 0.1817 - Accuracy: 0.9364 - auc: 0.9960 - precision: 0.9424 - recall: 0.9296 - val_loss: 0.2086 - val_Accuracy: 0.9324 - val_auc: 0.9941 - val_precision: 0.9363 - val_recall: 0.9282\n",
            "Epoch 25/50\n",
            "435/435 [==============================] - 187s 429ms/step - loss: 0.1749 - Accuracy: 0.9385 - auc: 0.9963 - precision: 0.9455 - recall: 0.9317 - val_loss: 0.1973 - val_Accuracy: 0.9355 - val_auc: 0.9946 - val_precision: 0.9398 - val_recall: 0.9310\n",
            "Epoch 26/50\n",
            "435/435 [==============================] - 165s 380ms/step - loss: 0.1739 - Accuracy: 0.9399 - auc: 0.9963 - precision: 0.9465 - recall: 0.9333 - val_loss: 0.1920 - val_Accuracy: 0.9392 - val_auc: 0.9945 - val_precision: 0.9427 - val_recall: 0.9361\n",
            "Epoch 27/50\n",
            "435/435 [==============================] - 169s 389ms/step - loss: 0.1613 - Accuracy: 0.9457 - auc: 0.9964 - precision: 0.9518 - recall: 0.9395 - val_loss: 0.1889 - val_Accuracy: 0.9346 - val_auc: 0.9951 - val_precision: 0.9386 - val_recall: 0.9318\n",
            "Epoch 28/50\n",
            "435/435 [==============================] - 189s 434ms/step - loss: 0.1491 - Accuracy: 0.9481 - auc: 0.9972 - precision: 0.9533 - recall: 0.9429 - val_loss: 0.2146 - val_Accuracy: 0.9339 - val_auc: 0.9932 - val_precision: 0.9362 - val_recall: 0.9321\n",
            "Epoch 29/50\n",
            "435/435 [==============================] - 190s 438ms/step - loss: 0.1515 - Accuracy: 0.9479 - auc: 0.9969 - precision: 0.9530 - recall: 0.9433 - val_loss: 0.1791 - val_Accuracy: 0.9386 - val_auc: 0.9950 - val_precision: 0.9426 - val_recall: 0.9355\n",
            "Epoch 30/50\n",
            "435/435 [==============================] - 191s 438ms/step - loss: 0.1425 - Accuracy: 0.9490 - auc: 0.9973 - precision: 0.9539 - recall: 0.9446 - val_loss: 0.1804 - val_Accuracy: 0.9380 - val_auc: 0.9947 - val_precision: 0.9406 - val_recall: 0.9355\n",
            "Epoch 31/50\n",
            "435/435 [==============================] - 190s 437ms/step - loss: 0.1430 - Accuracy: 0.9490 - auc: 0.9972 - precision: 0.9545 - recall: 0.9451 - val_loss: 0.1782 - val_Accuracy: 0.9404 - val_auc: 0.9949 - val_precision: 0.9439 - val_recall: 0.9378\n",
            "Epoch 32/50\n",
            "435/435 [==============================] - 169s 388ms/step - loss: 0.1320 - Accuracy: 0.9539 - auc: 0.9974 - precision: 0.9581 - recall: 0.9499 - val_loss: 0.1478 - val_Accuracy: 0.9492 - val_auc: 0.9963 - val_precision: 0.9517 - val_recall: 0.9476\n",
            "Epoch 33/50\n",
            "435/435 [==============================] - 192s 442ms/step - loss: 0.1339 - Accuracy: 0.9546 - auc: 0.9972 - precision: 0.9585 - recall: 0.9506 - val_loss: 0.2011 - val_Accuracy: 0.9343 - val_auc: 0.9940 - val_precision: 0.9377 - val_recall: 0.9316\n",
            "Epoch 34/50\n",
            "435/435 [==============================] - 188s 433ms/step - loss: 0.1307 - Accuracy: 0.9550 - auc: 0.9975 - precision: 0.9592 - recall: 0.9510 - val_loss: 0.1628 - val_Accuracy: 0.9521 - val_auc: 0.9950 - val_precision: 0.9536 - val_recall: 0.9503\n",
            "Epoch 35/50\n",
            "435/435 [==============================] - 166s 381ms/step - loss: 0.1210 - Accuracy: 0.9593 - auc: 0.9977 - precision: 0.9632 - recall: 0.9553 - val_loss: 0.1598 - val_Accuracy: 0.9476 - val_auc: 0.9952 - val_precision: 0.9499 - val_recall: 0.9456\n",
            "Epoch 36/50\n",
            "435/435 [==============================] - 166s 381ms/step - loss: 0.1231 - Accuracy: 0.9574 - auc: 0.9979 - precision: 0.9608 - recall: 0.9545 - val_loss: 0.1816 - val_Accuracy: 0.9410 - val_auc: 0.9947 - val_precision: 0.9439 - val_recall: 0.9377\n",
            "Epoch 37/50\n",
            "435/435 [==============================] - 186s 427ms/step - loss: 0.1226 - Accuracy: 0.9582 - auc: 0.9975 - precision: 0.9620 - recall: 0.9557 - val_loss: 0.1940 - val_Accuracy: 0.9399 - val_auc: 0.9940 - val_precision: 0.9425 - val_recall: 0.9386\n",
            "Epoch 38/50\n",
            "435/435 [==============================] - 164s 377ms/step - loss: 0.1152 - Accuracy: 0.9612 - auc: 0.9977 - precision: 0.9643 - recall: 0.9582 - val_loss: 0.1840 - val_Accuracy: 0.9483 - val_auc: 0.9944 - val_precision: 0.9498 - val_recall: 0.9465\n",
            "Epoch 39/50\n",
            "435/435 [==============================] - 168s 387ms/step - loss: 0.1062 - Accuracy: 0.9630 - auc: 0.9982 - precision: 0.9662 - recall: 0.9602 - val_loss: 0.1432 - val_Accuracy: 0.9537 - val_auc: 0.9958 - val_precision: 0.9551 - val_recall: 0.9518\n",
            "Epoch 40/50\n",
            "435/435 [==============================] - 164s 376ms/step - loss: 0.1053 - Accuracy: 0.9638 - auc: 0.9983 - precision: 0.9665 - recall: 0.9604 - val_loss: 0.1390 - val_Accuracy: 0.9585 - val_auc: 0.9962 - val_precision: 0.9598 - val_recall: 0.9573\n",
            "Epoch 41/50\n",
            "435/435 [==============================] - 186s 427ms/step - loss: 0.1007 - Accuracy: 0.9652 - auc: 0.9981 - precision: 0.9679 - recall: 0.9625 - val_loss: 0.1640 - val_Accuracy: 0.9507 - val_auc: 0.9951 - val_precision: 0.9520 - val_recall: 0.9498\n",
            "Epoch 42/50\n",
            "435/435 [==============================] - 165s 378ms/step - loss: 0.1051 - Accuracy: 0.9651 - auc: 0.9980 - precision: 0.9676 - recall: 0.9626 - val_loss: 0.1648 - val_Accuracy: 0.9446 - val_auc: 0.9960 - val_precision: 0.9463 - val_recall: 0.9431\n",
            "Epoch 43/50\n",
            "435/435 [==============================] - 167s 384ms/step - loss: 0.1006 - Accuracy: 0.9676 - auc: 0.9981 - precision: 0.9697 - recall: 0.9649 - val_loss: 0.1435 - val_Accuracy: 0.9570 - val_auc: 0.9956 - val_precision: 0.9580 - val_recall: 0.9557\n",
            "Epoch 44/50\n",
            "435/435 [==============================] - 183s 420ms/step - loss: 0.0957 - Accuracy: 0.9682 - auc: 0.9985 - precision: 0.9703 - recall: 0.9657 - val_loss: 0.1371 - val_Accuracy: 0.9567 - val_auc: 0.9965 - val_precision: 0.9584 - val_recall: 0.9558\n",
            "Epoch 45/50\n",
            "435/435 [==============================] - 167s 384ms/step - loss: 0.0939 - Accuracy: 0.9681 - auc: 0.9984 - precision: 0.9707 - recall: 0.9661 - val_loss: 0.1360 - val_Accuracy: 0.9581 - val_auc: 0.9960 - val_precision: 0.9590 - val_recall: 0.9567\n",
            "Epoch 46/50\n",
            "435/435 [==============================] - 165s 379ms/step - loss: 0.0920 - Accuracy: 0.9679 - auc: 0.9986 - precision: 0.9703 - recall: 0.9658 - val_loss: 0.1436 - val_Accuracy: 0.9575 - val_auc: 0.9958 - val_precision: 0.9588 - val_recall: 0.9551\n",
            "Epoch 47/50\n",
            "435/435 [==============================] - 165s 378ms/step - loss: 0.0890 - Accuracy: 0.9701 - auc: 0.9986 - precision: 0.9720 - recall: 0.9684 - val_loss: 0.1765 - val_Accuracy: 0.9509 - val_auc: 0.9942 - val_precision: 0.9530 - val_recall: 0.9497\n",
            "Epoch 48/50\n",
            "435/435 [==============================] - 184s 423ms/step - loss: 0.0905 - Accuracy: 0.9694 - auc: 0.9983 - precision: 0.9716 - recall: 0.9673 - val_loss: 0.1469 - val_Accuracy: 0.9560 - val_auc: 0.9952 - val_precision: 0.9573 - val_recall: 0.9542\n",
            "Epoch 49/50\n",
            "435/435 [==============================] - 185s 424ms/step - loss: 0.0903 - Accuracy: 0.9708 - auc: 0.9984 - precision: 0.9732 - recall: 0.9682 - val_loss: 0.1339 - val_Accuracy: 0.9579 - val_auc: 0.9960 - val_precision: 0.9603 - val_recall: 0.9566\n",
            "Epoch 50/50\n",
            "435/435 [==============================] - 169s 387ms/step - loss: 0.0858 - Accuracy: 0.9719 - auc: 0.9985 - precision: 0.9740 - recall: 0.9699 - val_loss: 0.1772 - val_Accuracy: 0.9503 - val_auc: 0.9938 - val_precision: 0.9521 - val_recall: 0.9494\n"
          ]
        }
      ],
      "source": [
        "history=model.fit_generator(train_generator,\n",
        "                    validation_data = valid_generator,\n",
        "                    steps_per_epoch = train_generator.n//train_generator.batch_size,\n",
        "                    validation_steps = valid_generator.n//valid_generator.batch_size,\n",
        "                    epochs=50)"
      ]
    },
    {
      "cell_type": "code",
      "source": [
        "history"
      ],
      "metadata": {
        "id": "7mayRtnq78k6",
        "colab": {
          "base_uri": "https://localhost:8080/"
        },
        "outputId": "15a749ac-9f86-4f96-f34d-8d655e949ca3"
      },
      "execution_count": null,
      "outputs": [
        {
          "output_type": "execute_result",
          "data": {
            "text/plain": [
              "<keras.callbacks.History at 0x7970a67b9ff0>"
            ]
          },
          "metadata": {},
          "execution_count": 18
        }
      ]
    },
    {
      "cell_type": "code",
      "source": [
        "history_df_res_152 = pd.DataFrame(history.history)\n",
        "history_df_res_152.to_csv('/content/gdrive/MyDrive/training_history_res_152.csv', index=False)\n"
      ],
      "metadata": {
        "id": "OhTRZnlyNMXK"
      },
      "execution_count": null,
      "outputs": []
    },
    {
      "cell_type": "markdown",
      "metadata": {
        "id": "4OfiyHIvxlPs"
      },
      "source": [
        "# Evaluation of Models"
      ]
    },
    {
      "cell_type": "code",
      "source": [
        "y_test = test_generator.classes\n",
        "\n",
        "Y_preds = model.predict_generator(test_generator, num_of_test_samples // batch_size+1,workers=0)\n",
        "Y_pred = np.argmax(Y_preds, axis=1)"
      ],
      "metadata": {
        "id": "-gwva_6VKQpH"
      },
      "execution_count": null,
      "outputs": []
    },
    {
      "cell_type": "code",
      "source": [
        "history.history = pd.read_csv('/content/gdrive/MyDrive/training_history_res_50.csv')\n",
        "history.history"
      ],
      "metadata": {
        "id": "sGs_EkYbABUK"
      },
      "execution_count": null,
      "outputs": []
    },
    {
      "cell_type": "code",
      "source": [
        "history = pd.read_csv('/content/gdrive/MyDrive/training_history_res_50.csv')"
      ],
      "metadata": {
        "id": "hNSdTg-6NKMR"
      },
      "execution_count": null,
      "outputs": []
    },
    {
      "cell_type": "code",
      "source": [
        "history"
      ],
      "metadata": {
        "colab": {
          "base_uri": "https://localhost:8080/",
          "height": 1000
        },
        "id": "pxZLHKHON7U5",
        "outputId": "9b9ecca0-ab0f-4e93-fda7-6a5f102c3bca"
      },
      "execution_count": null,
      "outputs": [
        {
          "output_type": "execute_result",
          "data": {
            "text/plain": [
              "        loss  Accuracy       auc  precision    recall  val_loss  val_Accuracy  \\\n",
              "0   1.144946  0.569636  0.889326   0.734001  0.392643  0.846012      0.687500   \n",
              "1   0.882004  0.672696  0.934801   0.773264  0.555791  0.742694      0.720703   \n",
              "2   0.757822  0.720127  0.951521   0.797570  0.625517  0.715611      0.736478   \n",
              "3   0.680771  0.743932  0.960551   0.810409  0.669100  0.602596      0.783804   \n",
              "4   0.616737  0.770074  0.967131   0.826369  0.704772  0.531235      0.799880   \n",
              "5   0.573290  0.787838  0.971601   0.836481  0.731022  0.501108      0.818359   \n",
              "6   0.521379  0.805746  0.975982   0.850034  0.758028  0.539568      0.801532   \n",
              "7   0.483923  0.820921  0.979117   0.860009  0.781366  0.399580      0.853966   \n",
              "8   0.447611  0.836420  0.981885   0.870052  0.802222  0.436623      0.846304   \n",
              "9   0.426312  0.845230  0.983384   0.874482  0.812471  0.365890      0.867939   \n",
              "10  0.397488  0.856701  0.985285   0.883219  0.826495  0.412412      0.855769   \n",
              "11  0.372804  0.863461  0.986954   0.887848  0.838074  0.317612      0.883413   \n",
              "12  0.347466  0.875724  0.988398   0.897512  0.853393  0.341363      0.876803   \n",
              "13  0.319110  0.884570  0.990251   0.903168  0.864325  0.280832      0.902193   \n",
              "14  0.307825  0.889280  0.990643   0.906718  0.870689  0.398741      0.868389   \n",
              "15  0.292767  0.897443  0.991337   0.914708  0.880039  0.267154      0.902494   \n",
              "16  0.269567  0.904060  0.992392   0.917614  0.890755  0.300369      0.895132   \n",
              "17  0.263656  0.907152  0.992709   0.919343  0.893524  0.218222      0.921424   \n",
              "18  0.244453  0.913122  0.993639   0.925450  0.900823  0.244294      0.913161   \n",
              "19  0.233165  0.916825  0.994194   0.928382  0.906649  0.202976      0.928486   \n",
              "20  0.223530  0.923154  0.994297   0.932058  0.913122  0.241742      0.918870   \n",
              "21  0.209081  0.925672  0.994981   0.935446  0.916070  0.210216      0.927734   \n",
              "22  0.207900  0.927002  0.994954   0.936384  0.918336  0.251468      0.911659   \n",
              "23  0.190404  0.932360  0.995730   0.940478  0.925564  0.242594      0.916166   \n",
              "24  0.191362  0.932756  0.995680   0.941024  0.925492  0.208070      0.928636   \n",
              "25  0.187081  0.934985  0.995962   0.942582  0.927398  0.234037      0.923528   \n",
              "26  0.179572  0.937646  0.996024   0.944329  0.930814  0.238754      0.917668   \n",
              "27  0.171946  0.940739  0.996235   0.947781  0.933978  0.192906      0.934796   \n",
              "28  0.161725  0.944047  0.996633   0.949580  0.938653  0.192458      0.934044   \n",
              "29  0.157299  0.945270  0.996924   0.951015  0.940379  0.189186      0.937200   \n",
              "30  0.150839  0.948398  0.996778   0.954360  0.943687  0.299621      0.906701   \n",
              "31  0.150271  0.948506  0.996813   0.954041  0.942788  0.171539      0.942308   \n",
              "32  0.142433  0.948794  0.997341   0.954159  0.944586  0.178563      0.945763   \n",
              "33  0.136608  0.952246  0.997382   0.956779  0.948074  0.166410      0.946665   \n",
              "34  0.137457  0.953468  0.997192   0.958538  0.949369  0.198519      0.937951   \n",
              "35  0.124677  0.956561  0.997784   0.960402  0.952390  0.191414      0.946965   \n",
              "36  0.121442  0.957712  0.997835   0.962211  0.954080  0.181467      0.945613   \n",
              "37  0.123770  0.957819  0.997655   0.961812  0.953684  0.188666      0.942608   \n",
              "38  0.118088  0.959941  0.997869   0.963666  0.956597  0.176465      0.947867   \n",
              "39  0.114899  0.961128  0.997805   0.964830  0.957891  0.228942      0.932993   \n",
              "40  0.115521  0.959941  0.997805   0.963235  0.957208  0.195477      0.940054   \n",
              "41  0.104817  0.963141  0.998327   0.966264  0.959905  0.217006      0.936749   \n",
              "42  0.115837  0.961559  0.997811   0.965046  0.958071  0.192922      0.940505   \n",
              "43  0.099722  0.965155  0.998353   0.967759  0.962818  0.232333      0.936298   \n",
              "44  0.100043  0.965766  0.998250   0.968326  0.963034  0.156898      0.949519   \n",
              "45  0.100541  0.964760  0.998303   0.967918  0.962314  0.189056      0.943059   \n",
              "46  0.096325  0.967960  0.998352   0.970635  0.965155  0.168836      0.945463   \n",
              "47  0.094769  0.968248  0.998379   0.971545  0.966270  0.195201      0.944261   \n",
              "48  0.098795  0.968176  0.998162   0.970343  0.965946  0.176667      0.947266   \n",
              "49  0.092396  0.968463  0.998455   0.971437  0.966162  0.201522      0.948768   \n",
              "\n",
              "     val_auc  val_precision  val_recall  \n",
              "0   0.940069       0.776521    0.598257  \n",
              "1   0.953587       0.802476    0.623197  \n",
              "2   0.956671       0.804564    0.667368  \n",
              "3   0.968399       0.825847    0.743089  \n",
              "4   0.974899       0.838407    0.765475  \n",
              "5   0.977708       0.854385    0.771334  \n",
              "6   0.974300       0.844073    0.759615  \n",
              "7   0.985318       0.877776    0.825421  \n",
              "8   0.982412       0.865611    0.829327  \n",
              "9   0.987307       0.888714    0.848257  \n",
              "10  0.984004       0.879810    0.834736  \n",
              "11  0.990071       0.899207    0.868540  \n",
              "12  0.988822       0.891287    0.862230  \n",
              "13  0.991764       0.912562    0.890625  \n",
              "14  0.984954       0.884435    0.852013  \n",
              "15  0.992435       0.912162    0.892428  \n",
              "16  0.990111       0.903532    0.887921  \n",
              "17  0.994647       0.927649    0.916917  \n",
              "18  0.992521       0.922195    0.906400  \n",
              "19  0.995073       0.934287    0.922776  \n",
              "20  0.992664       0.926878    0.910307  \n",
              "21  0.994155       0.933151    0.922776  \n",
              "22  0.992576       0.920318    0.905799  \n",
              "23  0.993044       0.923699    0.909405  \n",
              "24  0.994503       0.934528    0.924279  \n",
              "25  0.992421       0.928864    0.920072  \n",
              "26  0.992805       0.925042    0.914062  \n",
              "27  0.994722       0.939982    0.931791  \n",
              "28  0.995135       0.937699    0.929387  \n",
              "29  0.994516       0.940786    0.935697  \n",
              "30  0.988829       0.911199    0.903395  \n",
              "31  0.995350       0.944310    0.940054  \n",
              "32  0.995140       0.949547    0.944411  \n",
              "33  0.995738       0.949750    0.942758  \n",
              "34  0.993502       0.941711    0.934495  \n",
              "35  0.993425       0.949321    0.945613  \n",
              "36  0.994985       0.948784    0.943510  \n",
              "37  0.994033       0.945359    0.940956  \n",
              "38  0.994287       0.950340    0.945913  \n",
              "39  0.991803       0.936254    0.931190  \n",
              "40  0.993878       0.943294    0.937200  \n",
              "41  0.993005       0.939595    0.934796  \n",
              "42  0.993748       0.942810    0.938702  \n",
              "43  0.991934       0.938557    0.934044  \n",
              "44  0.995590       0.952216    0.949068  \n",
              "45  0.994218       0.945007    0.939754  \n",
              "46  0.995083       0.948745    0.942758  \n",
              "47  0.993587       0.947051    0.943209  \n",
              "48  0.994659       0.950174    0.945463  \n",
              "49  0.992488       0.950301    0.948017  "
            ],
            "text/html": [
              "\n",
              "  <div id=\"df-3c3c6af4-8281-4958-86cd-031e3088945a\" class=\"colab-df-container\">\n",
              "    <div>\n",
              "<style scoped>\n",
              "    .dataframe tbody tr th:only-of-type {\n",
              "        vertical-align: middle;\n",
              "    }\n",
              "\n",
              "    .dataframe tbody tr th {\n",
              "        vertical-align: top;\n",
              "    }\n",
              "\n",
              "    .dataframe thead th {\n",
              "        text-align: right;\n",
              "    }\n",
              "</style>\n",
              "<table border=\"1\" class=\"dataframe\">\n",
              "  <thead>\n",
              "    <tr style=\"text-align: right;\">\n",
              "      <th></th>\n",
              "      <th>loss</th>\n",
              "      <th>Accuracy</th>\n",
              "      <th>auc</th>\n",
              "      <th>precision</th>\n",
              "      <th>recall</th>\n",
              "      <th>val_loss</th>\n",
              "      <th>val_Accuracy</th>\n",
              "      <th>val_auc</th>\n",
              "      <th>val_precision</th>\n",
              "      <th>val_recall</th>\n",
              "    </tr>\n",
              "  </thead>\n",
              "  <tbody>\n",
              "    <tr>\n",
              "      <th>0</th>\n",
              "      <td>1.144946</td>\n",
              "      <td>0.569636</td>\n",
              "      <td>0.889326</td>\n",
              "      <td>0.734001</td>\n",
              "      <td>0.392643</td>\n",
              "      <td>0.846012</td>\n",
              "      <td>0.687500</td>\n",
              "      <td>0.940069</td>\n",
              "      <td>0.776521</td>\n",
              "      <td>0.598257</td>\n",
              "    </tr>\n",
              "    <tr>\n",
              "      <th>1</th>\n",
              "      <td>0.882004</td>\n",
              "      <td>0.672696</td>\n",
              "      <td>0.934801</td>\n",
              "      <td>0.773264</td>\n",
              "      <td>0.555791</td>\n",
              "      <td>0.742694</td>\n",
              "      <td>0.720703</td>\n",
              "      <td>0.953587</td>\n",
              "      <td>0.802476</td>\n",
              "      <td>0.623197</td>\n",
              "    </tr>\n",
              "    <tr>\n",
              "      <th>2</th>\n",
              "      <td>0.757822</td>\n",
              "      <td>0.720127</td>\n",
              "      <td>0.951521</td>\n",
              "      <td>0.797570</td>\n",
              "      <td>0.625517</td>\n",
              "      <td>0.715611</td>\n",
              "      <td>0.736478</td>\n",
              "      <td>0.956671</td>\n",
              "      <td>0.804564</td>\n",
              "      <td>0.667368</td>\n",
              "    </tr>\n",
              "    <tr>\n",
              "      <th>3</th>\n",
              "      <td>0.680771</td>\n",
              "      <td>0.743932</td>\n",
              "      <td>0.960551</td>\n",
              "      <td>0.810409</td>\n",
              "      <td>0.669100</td>\n",
              "      <td>0.602596</td>\n",
              "      <td>0.783804</td>\n",
              "      <td>0.968399</td>\n",
              "      <td>0.825847</td>\n",
              "      <td>0.743089</td>\n",
              "    </tr>\n",
              "    <tr>\n",
              "      <th>4</th>\n",
              "      <td>0.616737</td>\n",
              "      <td>0.770074</td>\n",
              "      <td>0.967131</td>\n",
              "      <td>0.826369</td>\n",
              "      <td>0.704772</td>\n",
              "      <td>0.531235</td>\n",
              "      <td>0.799880</td>\n",
              "      <td>0.974899</td>\n",
              "      <td>0.838407</td>\n",
              "      <td>0.765475</td>\n",
              "    </tr>\n",
              "    <tr>\n",
              "      <th>5</th>\n",
              "      <td>0.573290</td>\n",
              "      <td>0.787838</td>\n",
              "      <td>0.971601</td>\n",
              "      <td>0.836481</td>\n",
              "      <td>0.731022</td>\n",
              "      <td>0.501108</td>\n",
              "      <td>0.818359</td>\n",
              "      <td>0.977708</td>\n",
              "      <td>0.854385</td>\n",
              "      <td>0.771334</td>\n",
              "    </tr>\n",
              "    <tr>\n",
              "      <th>6</th>\n",
              "      <td>0.521379</td>\n",
              "      <td>0.805746</td>\n",
              "      <td>0.975982</td>\n",
              "      <td>0.850034</td>\n",
              "      <td>0.758028</td>\n",
              "      <td>0.539568</td>\n",
              "      <td>0.801532</td>\n",
              "      <td>0.974300</td>\n",
              "      <td>0.844073</td>\n",
              "      <td>0.759615</td>\n",
              "    </tr>\n",
              "    <tr>\n",
              "      <th>7</th>\n",
              "      <td>0.483923</td>\n",
              "      <td>0.820921</td>\n",
              "      <td>0.979117</td>\n",
              "      <td>0.860009</td>\n",
              "      <td>0.781366</td>\n",
              "      <td>0.399580</td>\n",
              "      <td>0.853966</td>\n",
              "      <td>0.985318</td>\n",
              "      <td>0.877776</td>\n",
              "      <td>0.825421</td>\n",
              "    </tr>\n",
              "    <tr>\n",
              "      <th>8</th>\n",
              "      <td>0.447611</td>\n",
              "      <td>0.836420</td>\n",
              "      <td>0.981885</td>\n",
              "      <td>0.870052</td>\n",
              "      <td>0.802222</td>\n",
              "      <td>0.436623</td>\n",
              "      <td>0.846304</td>\n",
              "      <td>0.982412</td>\n",
              "      <td>0.865611</td>\n",
              "      <td>0.829327</td>\n",
              "    </tr>\n",
              "    <tr>\n",
              "      <th>9</th>\n",
              "      <td>0.426312</td>\n",
              "      <td>0.845230</td>\n",
              "      <td>0.983384</td>\n",
              "      <td>0.874482</td>\n",
              "      <td>0.812471</td>\n",
              "      <td>0.365890</td>\n",
              "      <td>0.867939</td>\n",
              "      <td>0.987307</td>\n",
              "      <td>0.888714</td>\n",
              "      <td>0.848257</td>\n",
              "    </tr>\n",
              "    <tr>\n",
              "      <th>10</th>\n",
              "      <td>0.397488</td>\n",
              "      <td>0.856701</td>\n",
              "      <td>0.985285</td>\n",
              "      <td>0.883219</td>\n",
              "      <td>0.826495</td>\n",
              "      <td>0.412412</td>\n",
              "      <td>0.855769</td>\n",
              "      <td>0.984004</td>\n",
              "      <td>0.879810</td>\n",
              "      <td>0.834736</td>\n",
              "    </tr>\n",
              "    <tr>\n",
              "      <th>11</th>\n",
              "      <td>0.372804</td>\n",
              "      <td>0.863461</td>\n",
              "      <td>0.986954</td>\n",
              "      <td>0.887848</td>\n",
              "      <td>0.838074</td>\n",
              "      <td>0.317612</td>\n",
              "      <td>0.883413</td>\n",
              "      <td>0.990071</td>\n",
              "      <td>0.899207</td>\n",
              "      <td>0.868540</td>\n",
              "    </tr>\n",
              "    <tr>\n",
              "      <th>12</th>\n",
              "      <td>0.347466</td>\n",
              "      <td>0.875724</td>\n",
              "      <td>0.988398</td>\n",
              "      <td>0.897512</td>\n",
              "      <td>0.853393</td>\n",
              "      <td>0.341363</td>\n",
              "      <td>0.876803</td>\n",
              "      <td>0.988822</td>\n",
              "      <td>0.891287</td>\n",
              "      <td>0.862230</td>\n",
              "    </tr>\n",
              "    <tr>\n",
              "      <th>13</th>\n",
              "      <td>0.319110</td>\n",
              "      <td>0.884570</td>\n",
              "      <td>0.990251</td>\n",
              "      <td>0.903168</td>\n",
              "      <td>0.864325</td>\n",
              "      <td>0.280832</td>\n",
              "      <td>0.902193</td>\n",
              "      <td>0.991764</td>\n",
              "      <td>0.912562</td>\n",
              "      <td>0.890625</td>\n",
              "    </tr>\n",
              "    <tr>\n",
              "      <th>14</th>\n",
              "      <td>0.307825</td>\n",
              "      <td>0.889280</td>\n",
              "      <td>0.990643</td>\n",
              "      <td>0.906718</td>\n",
              "      <td>0.870689</td>\n",
              "      <td>0.398741</td>\n",
              "      <td>0.868389</td>\n",
              "      <td>0.984954</td>\n",
              "      <td>0.884435</td>\n",
              "      <td>0.852013</td>\n",
              "    </tr>\n",
              "    <tr>\n",
              "      <th>15</th>\n",
              "      <td>0.292767</td>\n",
              "      <td>0.897443</td>\n",
              "      <td>0.991337</td>\n",
              "      <td>0.914708</td>\n",
              "      <td>0.880039</td>\n",
              "      <td>0.267154</td>\n",
              "      <td>0.902494</td>\n",
              "      <td>0.992435</td>\n",
              "      <td>0.912162</td>\n",
              "      <td>0.892428</td>\n",
              "    </tr>\n",
              "    <tr>\n",
              "      <th>16</th>\n",
              "      <td>0.269567</td>\n",
              "      <td>0.904060</td>\n",
              "      <td>0.992392</td>\n",
              "      <td>0.917614</td>\n",
              "      <td>0.890755</td>\n",
              "      <td>0.300369</td>\n",
              "      <td>0.895132</td>\n",
              "      <td>0.990111</td>\n",
              "      <td>0.903532</td>\n",
              "      <td>0.887921</td>\n",
              "    </tr>\n",
              "    <tr>\n",
              "      <th>17</th>\n",
              "      <td>0.263656</td>\n",
              "      <td>0.907152</td>\n",
              "      <td>0.992709</td>\n",
              "      <td>0.919343</td>\n",
              "      <td>0.893524</td>\n",
              "      <td>0.218222</td>\n",
              "      <td>0.921424</td>\n",
              "      <td>0.994647</td>\n",
              "      <td>0.927649</td>\n",
              "      <td>0.916917</td>\n",
              "    </tr>\n",
              "    <tr>\n",
              "      <th>18</th>\n",
              "      <td>0.244453</td>\n",
              "      <td>0.913122</td>\n",
              "      <td>0.993639</td>\n",
              "      <td>0.925450</td>\n",
              "      <td>0.900823</td>\n",
              "      <td>0.244294</td>\n",
              "      <td>0.913161</td>\n",
              "      <td>0.992521</td>\n",
              "      <td>0.922195</td>\n",
              "      <td>0.906400</td>\n",
              "    </tr>\n",
              "    <tr>\n",
              "      <th>19</th>\n",
              "      <td>0.233165</td>\n",
              "      <td>0.916825</td>\n",
              "      <td>0.994194</td>\n",
              "      <td>0.928382</td>\n",
              "      <td>0.906649</td>\n",
              "      <td>0.202976</td>\n",
              "      <td>0.928486</td>\n",
              "      <td>0.995073</td>\n",
              "      <td>0.934287</td>\n",
              "      <td>0.922776</td>\n",
              "    </tr>\n",
              "    <tr>\n",
              "      <th>20</th>\n",
              "      <td>0.223530</td>\n",
              "      <td>0.923154</td>\n",
              "      <td>0.994297</td>\n",
              "      <td>0.932058</td>\n",
              "      <td>0.913122</td>\n",
              "      <td>0.241742</td>\n",
              "      <td>0.918870</td>\n",
              "      <td>0.992664</td>\n",
              "      <td>0.926878</td>\n",
              "      <td>0.910307</td>\n",
              "    </tr>\n",
              "    <tr>\n",
              "      <th>21</th>\n",
              "      <td>0.209081</td>\n",
              "      <td>0.925672</td>\n",
              "      <td>0.994981</td>\n",
              "      <td>0.935446</td>\n",
              "      <td>0.916070</td>\n",
              "      <td>0.210216</td>\n",
              "      <td>0.927734</td>\n",
              "      <td>0.994155</td>\n",
              "      <td>0.933151</td>\n",
              "      <td>0.922776</td>\n",
              "    </tr>\n",
              "    <tr>\n",
              "      <th>22</th>\n",
              "      <td>0.207900</td>\n",
              "      <td>0.927002</td>\n",
              "      <td>0.994954</td>\n",
              "      <td>0.936384</td>\n",
              "      <td>0.918336</td>\n",
              "      <td>0.251468</td>\n",
              "      <td>0.911659</td>\n",
              "      <td>0.992576</td>\n",
              "      <td>0.920318</td>\n",
              "      <td>0.905799</td>\n",
              "    </tr>\n",
              "    <tr>\n",
              "      <th>23</th>\n",
              "      <td>0.190404</td>\n",
              "      <td>0.932360</td>\n",
              "      <td>0.995730</td>\n",
              "      <td>0.940478</td>\n",
              "      <td>0.925564</td>\n",
              "      <td>0.242594</td>\n",
              "      <td>0.916166</td>\n",
              "      <td>0.993044</td>\n",
              "      <td>0.923699</td>\n",
              "      <td>0.909405</td>\n",
              "    </tr>\n",
              "    <tr>\n",
              "      <th>24</th>\n",
              "      <td>0.191362</td>\n",
              "      <td>0.932756</td>\n",
              "      <td>0.995680</td>\n",
              "      <td>0.941024</td>\n",
              "      <td>0.925492</td>\n",
              "      <td>0.208070</td>\n",
              "      <td>0.928636</td>\n",
              "      <td>0.994503</td>\n",
              "      <td>0.934528</td>\n",
              "      <td>0.924279</td>\n",
              "    </tr>\n",
              "    <tr>\n",
              "      <th>25</th>\n",
              "      <td>0.187081</td>\n",
              "      <td>0.934985</td>\n",
              "      <td>0.995962</td>\n",
              "      <td>0.942582</td>\n",
              "      <td>0.927398</td>\n",
              "      <td>0.234037</td>\n",
              "      <td>0.923528</td>\n",
              "      <td>0.992421</td>\n",
              "      <td>0.928864</td>\n",
              "      <td>0.920072</td>\n",
              "    </tr>\n",
              "    <tr>\n",
              "      <th>26</th>\n",
              "      <td>0.179572</td>\n",
              "      <td>0.937646</td>\n",
              "      <td>0.996024</td>\n",
              "      <td>0.944329</td>\n",
              "      <td>0.930814</td>\n",
              "      <td>0.238754</td>\n",
              "      <td>0.917668</td>\n",
              "      <td>0.992805</td>\n",
              "      <td>0.925042</td>\n",
              "      <td>0.914062</td>\n",
              "    </tr>\n",
              "    <tr>\n",
              "      <th>27</th>\n",
              "      <td>0.171946</td>\n",
              "      <td>0.940739</td>\n",
              "      <td>0.996235</td>\n",
              "      <td>0.947781</td>\n",
              "      <td>0.933978</td>\n",
              "      <td>0.192906</td>\n",
              "      <td>0.934796</td>\n",
              "      <td>0.994722</td>\n",
              "      <td>0.939982</td>\n",
              "      <td>0.931791</td>\n",
              "    </tr>\n",
              "    <tr>\n",
              "      <th>28</th>\n",
              "      <td>0.161725</td>\n",
              "      <td>0.944047</td>\n",
              "      <td>0.996633</td>\n",
              "      <td>0.949580</td>\n",
              "      <td>0.938653</td>\n",
              "      <td>0.192458</td>\n",
              "      <td>0.934044</td>\n",
              "      <td>0.995135</td>\n",
              "      <td>0.937699</td>\n",
              "      <td>0.929387</td>\n",
              "    </tr>\n",
              "    <tr>\n",
              "      <th>29</th>\n",
              "      <td>0.157299</td>\n",
              "      <td>0.945270</td>\n",
              "      <td>0.996924</td>\n",
              "      <td>0.951015</td>\n",
              "      <td>0.940379</td>\n",
              "      <td>0.189186</td>\n",
              "      <td>0.937200</td>\n",
              "      <td>0.994516</td>\n",
              "      <td>0.940786</td>\n",
              "      <td>0.935697</td>\n",
              "    </tr>\n",
              "    <tr>\n",
              "      <th>30</th>\n",
              "      <td>0.150839</td>\n",
              "      <td>0.948398</td>\n",
              "      <td>0.996778</td>\n",
              "      <td>0.954360</td>\n",
              "      <td>0.943687</td>\n",
              "      <td>0.299621</td>\n",
              "      <td>0.906701</td>\n",
              "      <td>0.988829</td>\n",
              "      <td>0.911199</td>\n",
              "      <td>0.903395</td>\n",
              "    </tr>\n",
              "    <tr>\n",
              "      <th>31</th>\n",
              "      <td>0.150271</td>\n",
              "      <td>0.948506</td>\n",
              "      <td>0.996813</td>\n",
              "      <td>0.954041</td>\n",
              "      <td>0.942788</td>\n",
              "      <td>0.171539</td>\n",
              "      <td>0.942308</td>\n",
              "      <td>0.995350</td>\n",
              "      <td>0.944310</td>\n",
              "      <td>0.940054</td>\n",
              "    </tr>\n",
              "    <tr>\n",
              "      <th>32</th>\n",
              "      <td>0.142433</td>\n",
              "      <td>0.948794</td>\n",
              "      <td>0.997341</td>\n",
              "      <td>0.954159</td>\n",
              "      <td>0.944586</td>\n",
              "      <td>0.178563</td>\n",
              "      <td>0.945763</td>\n",
              "      <td>0.995140</td>\n",
              "      <td>0.949547</td>\n",
              "      <td>0.944411</td>\n",
              "    </tr>\n",
              "    <tr>\n",
              "      <th>33</th>\n",
              "      <td>0.136608</td>\n",
              "      <td>0.952246</td>\n",
              "      <td>0.997382</td>\n",
              "      <td>0.956779</td>\n",
              "      <td>0.948074</td>\n",
              "      <td>0.166410</td>\n",
              "      <td>0.946665</td>\n",
              "      <td>0.995738</td>\n",
              "      <td>0.949750</td>\n",
              "      <td>0.942758</td>\n",
              "    </tr>\n",
              "    <tr>\n",
              "      <th>34</th>\n",
              "      <td>0.137457</td>\n",
              "      <td>0.953468</td>\n",
              "      <td>0.997192</td>\n",
              "      <td>0.958538</td>\n",
              "      <td>0.949369</td>\n",
              "      <td>0.198519</td>\n",
              "      <td>0.937951</td>\n",
              "      <td>0.993502</td>\n",
              "      <td>0.941711</td>\n",
              "      <td>0.934495</td>\n",
              "    </tr>\n",
              "    <tr>\n",
              "      <th>35</th>\n",
              "      <td>0.124677</td>\n",
              "      <td>0.956561</td>\n",
              "      <td>0.997784</td>\n",
              "      <td>0.960402</td>\n",
              "      <td>0.952390</td>\n",
              "      <td>0.191414</td>\n",
              "      <td>0.946965</td>\n",
              "      <td>0.993425</td>\n",
              "      <td>0.949321</td>\n",
              "      <td>0.945613</td>\n",
              "    </tr>\n",
              "    <tr>\n",
              "      <th>36</th>\n",
              "      <td>0.121442</td>\n",
              "      <td>0.957712</td>\n",
              "      <td>0.997835</td>\n",
              "      <td>0.962211</td>\n",
              "      <td>0.954080</td>\n",
              "      <td>0.181467</td>\n",
              "      <td>0.945613</td>\n",
              "      <td>0.994985</td>\n",
              "      <td>0.948784</td>\n",
              "      <td>0.943510</td>\n",
              "    </tr>\n",
              "    <tr>\n",
              "      <th>37</th>\n",
              "      <td>0.123770</td>\n",
              "      <td>0.957819</td>\n",
              "      <td>0.997655</td>\n",
              "      <td>0.961812</td>\n",
              "      <td>0.953684</td>\n",
              "      <td>0.188666</td>\n",
              "      <td>0.942608</td>\n",
              "      <td>0.994033</td>\n",
              "      <td>0.945359</td>\n",
              "      <td>0.940956</td>\n",
              "    </tr>\n",
              "    <tr>\n",
              "      <th>38</th>\n",
              "      <td>0.118088</td>\n",
              "      <td>0.959941</td>\n",
              "      <td>0.997869</td>\n",
              "      <td>0.963666</td>\n",
              "      <td>0.956597</td>\n",
              "      <td>0.176465</td>\n",
              "      <td>0.947867</td>\n",
              "      <td>0.994287</td>\n",
              "      <td>0.950340</td>\n",
              "      <td>0.945913</td>\n",
              "    </tr>\n",
              "    <tr>\n",
              "      <th>39</th>\n",
              "      <td>0.114899</td>\n",
              "      <td>0.961128</td>\n",
              "      <td>0.997805</td>\n",
              "      <td>0.964830</td>\n",
              "      <td>0.957891</td>\n",
              "      <td>0.228942</td>\n",
              "      <td>0.932993</td>\n",
              "      <td>0.991803</td>\n",
              "      <td>0.936254</td>\n",
              "      <td>0.931190</td>\n",
              "    </tr>\n",
              "    <tr>\n",
              "      <th>40</th>\n",
              "      <td>0.115521</td>\n",
              "      <td>0.959941</td>\n",
              "      <td>0.997805</td>\n",
              "      <td>0.963235</td>\n",
              "      <td>0.957208</td>\n",
              "      <td>0.195477</td>\n",
              "      <td>0.940054</td>\n",
              "      <td>0.993878</td>\n",
              "      <td>0.943294</td>\n",
              "      <td>0.937200</td>\n",
              "    </tr>\n",
              "    <tr>\n",
              "      <th>41</th>\n",
              "      <td>0.104817</td>\n",
              "      <td>0.963141</td>\n",
              "      <td>0.998327</td>\n",
              "      <td>0.966264</td>\n",
              "      <td>0.959905</td>\n",
              "      <td>0.217006</td>\n",
              "      <td>0.936749</td>\n",
              "      <td>0.993005</td>\n",
              "      <td>0.939595</td>\n",
              "      <td>0.934796</td>\n",
              "    </tr>\n",
              "    <tr>\n",
              "      <th>42</th>\n",
              "      <td>0.115837</td>\n",
              "      <td>0.961559</td>\n",
              "      <td>0.997811</td>\n",
              "      <td>0.965046</td>\n",
              "      <td>0.958071</td>\n",
              "      <td>0.192922</td>\n",
              "      <td>0.940505</td>\n",
              "      <td>0.993748</td>\n",
              "      <td>0.942810</td>\n",
              "      <td>0.938702</td>\n",
              "    </tr>\n",
              "    <tr>\n",
              "      <th>43</th>\n",
              "      <td>0.099722</td>\n",
              "      <td>0.965155</td>\n",
              "      <td>0.998353</td>\n",
              "      <td>0.967759</td>\n",
              "      <td>0.962818</td>\n",
              "      <td>0.232333</td>\n",
              "      <td>0.936298</td>\n",
              "      <td>0.991934</td>\n",
              "      <td>0.938557</td>\n",
              "      <td>0.934044</td>\n",
              "    </tr>\n",
              "    <tr>\n",
              "      <th>44</th>\n",
              "      <td>0.100043</td>\n",
              "      <td>0.965766</td>\n",
              "      <td>0.998250</td>\n",
              "      <td>0.968326</td>\n",
              "      <td>0.963034</td>\n",
              "      <td>0.156898</td>\n",
              "      <td>0.949519</td>\n",
              "      <td>0.995590</td>\n",
              "      <td>0.952216</td>\n",
              "      <td>0.949068</td>\n",
              "    </tr>\n",
              "    <tr>\n",
              "      <th>45</th>\n",
              "      <td>0.100541</td>\n",
              "      <td>0.964760</td>\n",
              "      <td>0.998303</td>\n",
              "      <td>0.967918</td>\n",
              "      <td>0.962314</td>\n",
              "      <td>0.189056</td>\n",
              "      <td>0.943059</td>\n",
              "      <td>0.994218</td>\n",
              "      <td>0.945007</td>\n",
              "      <td>0.939754</td>\n",
              "    </tr>\n",
              "    <tr>\n",
              "      <th>46</th>\n",
              "      <td>0.096325</td>\n",
              "      <td>0.967960</td>\n",
              "      <td>0.998352</td>\n",
              "      <td>0.970635</td>\n",
              "      <td>0.965155</td>\n",
              "      <td>0.168836</td>\n",
              "      <td>0.945463</td>\n",
              "      <td>0.995083</td>\n",
              "      <td>0.948745</td>\n",
              "      <td>0.942758</td>\n",
              "    </tr>\n",
              "    <tr>\n",
              "      <th>47</th>\n",
              "      <td>0.094769</td>\n",
              "      <td>0.968248</td>\n",
              "      <td>0.998379</td>\n",
              "      <td>0.971545</td>\n",
              "      <td>0.966270</td>\n",
              "      <td>0.195201</td>\n",
              "      <td>0.944261</td>\n",
              "      <td>0.993587</td>\n",
              "      <td>0.947051</td>\n",
              "      <td>0.943209</td>\n",
              "    </tr>\n",
              "    <tr>\n",
              "      <th>48</th>\n",
              "      <td>0.098795</td>\n",
              "      <td>0.968176</td>\n",
              "      <td>0.998162</td>\n",
              "      <td>0.970343</td>\n",
              "      <td>0.965946</td>\n",
              "      <td>0.176667</td>\n",
              "      <td>0.947266</td>\n",
              "      <td>0.994659</td>\n",
              "      <td>0.950174</td>\n",
              "      <td>0.945463</td>\n",
              "    </tr>\n",
              "    <tr>\n",
              "      <th>49</th>\n",
              "      <td>0.092396</td>\n",
              "      <td>0.968463</td>\n",
              "      <td>0.998455</td>\n",
              "      <td>0.971437</td>\n",
              "      <td>0.966162</td>\n",
              "      <td>0.201522</td>\n",
              "      <td>0.948768</td>\n",
              "      <td>0.992488</td>\n",
              "      <td>0.950301</td>\n",
              "      <td>0.948017</td>\n",
              "    </tr>\n",
              "  </tbody>\n",
              "</table>\n",
              "</div>\n",
              "    <div class=\"colab-df-buttons\">\n",
              "\n",
              "  <div class=\"colab-df-container\">\n",
              "    <button class=\"colab-df-convert\" onclick=\"convertToInteractive('df-3c3c6af4-8281-4958-86cd-031e3088945a')\"\n",
              "            title=\"Convert this dataframe to an interactive table.\"\n",
              "            style=\"display:none;\">\n",
              "\n",
              "  <svg xmlns=\"http://www.w3.org/2000/svg\" height=\"24px\" viewBox=\"0 -960 960 960\">\n",
              "    <path d=\"M120-120v-720h720v720H120Zm60-500h600v-160H180v160Zm220 220h160v-160H400v160Zm0 220h160v-160H400v160ZM180-400h160v-160H180v160Zm440 0h160v-160H620v160ZM180-180h160v-160H180v160Zm440 0h160v-160H620v160Z\"/>\n",
              "  </svg>\n",
              "    </button>\n",
              "\n",
              "  <style>\n",
              "    .colab-df-container {\n",
              "      display:flex;\n",
              "      gap: 12px;\n",
              "    }\n",
              "\n",
              "    .colab-df-convert {\n",
              "      background-color: #E8F0FE;\n",
              "      border: none;\n",
              "      border-radius: 50%;\n",
              "      cursor: pointer;\n",
              "      display: none;\n",
              "      fill: #1967D2;\n",
              "      height: 32px;\n",
              "      padding: 0 0 0 0;\n",
              "      width: 32px;\n",
              "    }\n",
              "\n",
              "    .colab-df-convert:hover {\n",
              "      background-color: #E2EBFA;\n",
              "      box-shadow: 0px 1px 2px rgba(60, 64, 67, 0.3), 0px 1px 3px 1px rgba(60, 64, 67, 0.15);\n",
              "      fill: #174EA6;\n",
              "    }\n",
              "\n",
              "    .colab-df-buttons div {\n",
              "      margin-bottom: 4px;\n",
              "    }\n",
              "\n",
              "    [theme=dark] .colab-df-convert {\n",
              "      background-color: #3B4455;\n",
              "      fill: #D2E3FC;\n",
              "    }\n",
              "\n",
              "    [theme=dark] .colab-df-convert:hover {\n",
              "      background-color: #434B5C;\n",
              "      box-shadow: 0px 1px 3px 1px rgba(0, 0, 0, 0.15);\n",
              "      filter: drop-shadow(0px 1px 2px rgba(0, 0, 0, 0.3));\n",
              "      fill: #FFFFFF;\n",
              "    }\n",
              "  </style>\n",
              "\n",
              "    <script>\n",
              "      const buttonEl =\n",
              "        document.querySelector('#df-3c3c6af4-8281-4958-86cd-031e3088945a button.colab-df-convert');\n",
              "      buttonEl.style.display =\n",
              "        google.colab.kernel.accessAllowed ? 'block' : 'none';\n",
              "\n",
              "      async function convertToInteractive(key) {\n",
              "        const element = document.querySelector('#df-3c3c6af4-8281-4958-86cd-031e3088945a');\n",
              "        const dataTable =\n",
              "          await google.colab.kernel.invokeFunction('convertToInteractive',\n",
              "                                                    [key], {});\n",
              "        if (!dataTable) return;\n",
              "\n",
              "        const docLinkHtml = 'Like what you see? Visit the ' +\n",
              "          '<a target=\"_blank\" href=https://colab.research.google.com/notebooks/data_table.ipynb>data table notebook</a>'\n",
              "          + ' to learn more about interactive tables.';\n",
              "        element.innerHTML = '';\n",
              "        dataTable['output_type'] = 'display_data';\n",
              "        await google.colab.output.renderOutput(dataTable, element);\n",
              "        const docLink = document.createElement('div');\n",
              "        docLink.innerHTML = docLinkHtml;\n",
              "        element.appendChild(docLink);\n",
              "      }\n",
              "    </script>\n",
              "  </div>\n",
              "\n",
              "\n",
              "<div id=\"df-41155904-d926-4ec4-9600-2a7eb6e40ed2\">\n",
              "  <button class=\"colab-df-quickchart\" onclick=\"quickchart('df-41155904-d926-4ec4-9600-2a7eb6e40ed2')\"\n",
              "            title=\"Suggest charts.\"\n",
              "            style=\"display:none;\">\n",
              "\n",
              "<svg xmlns=\"http://www.w3.org/2000/svg\" height=\"24px\"viewBox=\"0 0 24 24\"\n",
              "     width=\"24px\">\n",
              "    <g>\n",
              "        <path d=\"M19 3H5c-1.1 0-2 .9-2 2v14c0 1.1.9 2 2 2h14c1.1 0 2-.9 2-2V5c0-1.1-.9-2-2-2zM9 17H7v-7h2v7zm4 0h-2V7h2v10zm4 0h-2v-4h2v4z\"/>\n",
              "    </g>\n",
              "</svg>\n",
              "  </button>\n",
              "\n",
              "<style>\n",
              "  .colab-df-quickchart {\n",
              "    background-color: #E8F0FE;\n",
              "    border: none;\n",
              "    border-radius: 50%;\n",
              "    cursor: pointer;\n",
              "    display: none;\n",
              "    fill: #1967D2;\n",
              "    height: 32px;\n",
              "    padding: 0 0 0 0;\n",
              "    width: 32px;\n",
              "  }\n",
              "\n",
              "  .colab-df-quickchart:hover {\n",
              "    background-color: #E2EBFA;\n",
              "    box-shadow: 0px 1px 2px rgba(60, 64, 67, 0.3), 0px 1px 3px 1px rgba(60, 64, 67, 0.15);\n",
              "    fill: #174EA6;\n",
              "  }\n",
              "\n",
              "  [theme=dark] .colab-df-quickchart {\n",
              "    background-color: #3B4455;\n",
              "    fill: #D2E3FC;\n",
              "  }\n",
              "\n",
              "  [theme=dark] .colab-df-quickchart:hover {\n",
              "    background-color: #434B5C;\n",
              "    box-shadow: 0px 1px 3px 1px rgba(0, 0, 0, 0.15);\n",
              "    filter: drop-shadow(0px 1px 2px rgba(0, 0, 0, 0.3));\n",
              "    fill: #FFFFFF;\n",
              "  }\n",
              "</style>\n",
              "\n",
              "  <script>\n",
              "    async function quickchart(key) {\n",
              "      const charts = await google.colab.kernel.invokeFunction(\n",
              "          'suggestCharts', [key], {});\n",
              "    }\n",
              "    (() => {\n",
              "      let quickchartButtonEl =\n",
              "        document.querySelector('#df-41155904-d926-4ec4-9600-2a7eb6e40ed2 button');\n",
              "      quickchartButtonEl.style.display =\n",
              "        google.colab.kernel.accessAllowed ? 'block' : 'none';\n",
              "    })();\n",
              "  </script>\n",
              "</div>\n",
              "    </div>\n",
              "  </div>\n"
            ]
          },
          "metadata": {},
          "execution_count": 6
        }
      ]
    },
    {
      "cell_type": "code",
      "source": [
        "from sklearn.metrics import ConfusionMatrixDisplay\n",
        "plt_epochs = list(range(50))\n",
        "\n",
        "#Calculating the accuracy\n",
        "acc = history['Accuracy']\n",
        "val_acc = history['val_Accuracy']\n",
        "\n",
        "#Calculating the loss\n",
        "loss = history['loss']\n",
        "val_loss = history['val_loss']\n",
        "\n",
        "#setting the size of the figures\n",
        "fig, ax = plt.subplots(1,3,figsize=(5, 0.1))\n",
        "\n",
        "#plotting the accuracy\n",
        "ax[0].plot(plt_epochs, acc, label='Train Accuracy')\n",
        "ax[0].plot(plt_epochs, val_acc, label='Validation Accuracy')\n",
        "ax[0].set_xlabel('Number of Epochs',weight='bold')\n",
        "ax[0].set_ylabel('Accuracy',weight='bold')\n",
        "ax[0].set_title('ResNet152V2 Model Accuracy',weight='bold')\n",
        "ax[0].legend()\n",
        "ax[0].legend(prop={'size': 8})\n",
        "\n",
        "#plotting the loss\n",
        "ax[1].plot(plt_epochs, loss, label='Train Loss')\n",
        "ax[1].plot(plt_epochs, val_loss, label='Validation Loss')\n",
        "ax[1].set_xlabel('Number of Epochs',weight='bold')\n",
        "ax[1].set_ylabel('Loss',weight='bold')\n",
        "ax[1].set_title('Model Loss',weight='bold')\n",
        "ax[1].legend()\n",
        "ax[1].legend(prop={'size': 8})\n",
        "\n",
        "# confusion matrix\n",
        "\n",
        "cm1 = [[238,2],\n",
        "      [3,181]]\n",
        "\n",
        "cm1= np.array(cm1)\n",
        "label_names = ['Fetus','Mother']\n",
        "disp1 = ConfusionMatrixDisplay(confusion_matrix=cm1, display_labels=label_names)\n",
        "disp1.plot(ax=ax[2],xticks_rotation='vertical',cmap='BuPu')\n",
        "disp1.im_.colorbar.remove()\n",
        "fig = disp1.ax_.get_figure()\n",
        "fig.set_figwidth(9)\n",
        "fig.set_figheight(2.3)\n",
        "ax[2].set_xlabel('Predicted labels',weight='bold')\n",
        "ax[2].set_ylabel('True labels',weight='bold')\n",
        "ax[2].set_title('Confusion Matrix',weight='bold')\n",
        "plt.subplots_adjust(hspace=0.5, wspace=0.5)\n",
        "ax0 = ax[0].get_position()\n",
        "ax1 = ax[1].get_position()\n",
        "ax2 = ax[2].get_position()\n",
        "# ax[2].set_xticks(weight = 'bold')\n",
        "ax[0].set_position([ax0.x0,ax0.y0,.27,1])\n",
        "ax[1].set_position([.46,ax1.y0,.27,1])\n",
        "ax[2].set_position([.8,ax2.y0,.27,1])\n",
        "plt.show()"
      ],
      "metadata": {
        "id": "tKf3CXwAJNVI",
        "colab": {
          "base_uri": "https://localhost:8080/",
          "height": 480
        },
        "outputId": "a0ec0e91-f2d6-4a71-a428-34a2a3e8411a"
      },
      "execution_count": null,
      "outputs": [
        {
          "output_type": "execute_result",
          "data": {
            "text/plain": [
              "[<matplotlib.lines.Line2D at 0x7c79ab93dc30>]"
            ]
          },
          "metadata": {},
          "execution_count": 7
        },
        {
          "output_type": "execute_result",
          "data": {
            "text/plain": [
              "[<matplotlib.lines.Line2D at 0x7c79ab834af0>]"
            ]
          },
          "metadata": {},
          "execution_count": 7
        },
        {
          "output_type": "execute_result",
          "data": {
            "text/plain": [
              "Text(0.5, 0, 'Number of Epochs')"
            ]
          },
          "metadata": {},
          "execution_count": 7
        },
        {
          "output_type": "execute_result",
          "data": {
            "text/plain": [
              "Text(0, 0.5, 'Accuracy')"
            ]
          },
          "metadata": {},
          "execution_count": 7
        },
        {
          "output_type": "execute_result",
          "data": {
            "text/plain": [
              "Text(0.5, 1.0, 'ResNet152V2 Model Accuracy')"
            ]
          },
          "metadata": {},
          "execution_count": 7
        },
        {
          "output_type": "execute_result",
          "data": {
            "text/plain": [
              "<matplotlib.legend.Legend at 0x7c79ab808b80>"
            ]
          },
          "metadata": {},
          "execution_count": 7
        },
        {
          "output_type": "execute_result",
          "data": {
            "text/plain": [
              "<matplotlib.legend.Legend at 0x7c79ab99f250>"
            ]
          },
          "metadata": {},
          "execution_count": 7
        },
        {
          "output_type": "execute_result",
          "data": {
            "text/plain": [
              "[<matplotlib.lines.Line2D at 0x7c79ab837c40>]"
            ]
          },
          "metadata": {},
          "execution_count": 7
        },
        {
          "output_type": "execute_result",
          "data": {
            "text/plain": [
              "[<matplotlib.lines.Line2D at 0x7c79ab69c070>]"
            ]
          },
          "metadata": {},
          "execution_count": 7
        },
        {
          "output_type": "execute_result",
          "data": {
            "text/plain": [
              "Text(0.5, 0, 'Number of Epochs')"
            ]
          },
          "metadata": {},
          "execution_count": 7
        },
        {
          "output_type": "execute_result",
          "data": {
            "text/plain": [
              "Text(0, 0.5, 'Loss')"
            ]
          },
          "metadata": {},
          "execution_count": 7
        },
        {
          "output_type": "execute_result",
          "data": {
            "text/plain": [
              "Text(0.5, 1.0, 'Model Loss')"
            ]
          },
          "metadata": {},
          "execution_count": 7
        },
        {
          "output_type": "execute_result",
          "data": {
            "text/plain": [
              "<matplotlib.legend.Legend at 0x7c79ab99e500>"
            ]
          },
          "metadata": {},
          "execution_count": 7
        },
        {
          "output_type": "execute_result",
          "data": {
            "text/plain": [
              "<matplotlib.legend.Legend at 0x7c79ab7ded10>"
            ]
          },
          "metadata": {},
          "execution_count": 7
        },
        {
          "output_type": "execute_result",
          "data": {
            "text/plain": [
              "<sklearn.metrics._plot.confusion_matrix.ConfusionMatrixDisplay at 0x7c79ab808c70>"
            ]
          },
          "metadata": {},
          "execution_count": 7
        },
        {
          "output_type": "execute_result",
          "data": {
            "text/plain": [
              "Text(0.5, 0, 'Predicted labels')"
            ]
          },
          "metadata": {},
          "execution_count": 7
        },
        {
          "output_type": "execute_result",
          "data": {
            "text/plain": [
              "Text(0, 0.5, 'True labels')"
            ]
          },
          "metadata": {},
          "execution_count": 7
        },
        {
          "output_type": "execute_result",
          "data": {
            "text/plain": [
              "Text(0.5, 1.0, 'Confusion Matrix')"
            ]
          },
          "metadata": {},
          "execution_count": 7
        },
        {
          "output_type": "display_data",
          "data": {
            "text/plain": [
              "<Figure size 900x230 with 3 Axes>"
            ],
            "image/png": "[encoded data removed]"
          },
          "metadata": {}
        }
      ]
    },
    {
      "cell_type": "code",
      "source": [
        "history = pd.read_csv('/content/drive/MyDrive/convnext_history_with_specaug.csv')\n",
        "history"
      ],
      "metadata": {
        "colab": {
          "base_uri": "https://localhost:8080/",
          "height": 677
        },
        "id": "hfsbXPdPkQZH",
        "outputId": "089055a9-a7e4-4e1f-c9ba-30f3eb3b62e8"
      },
      "execution_count": null,
      "outputs": [
        {
          "output_type": "execute_result",
          "data": {
            "text/plain": [
              "    train_accuracy  train_loss  test_accuracy  test_losses\n",
              "0         0.931604    0.255033       0.986111     0.077982\n",
              "1         0.990567    0.040150       0.986111     0.066952\n",
              "2         0.994694    0.021192       0.993055     0.041211\n",
              "3         0.995284    0.016267       0.993055     0.017244\n",
              "4         0.997053    0.010973       0.995370     0.020094\n",
              "5         0.997053    0.006765       0.988426     0.058235\n",
              "6         0.992925    0.040862       0.990741     0.026226\n",
              "7         0.996463    0.015282       0.995370     0.024606\n",
              "8         0.997642    0.012671       0.995370     0.011410\n",
              "9         0.999411    0.001195       0.995370     0.015054\n",
              "10        0.999411    0.000509       0.995370     0.009450\n",
              "11        1.000001    0.000039       0.995370     0.011116\n",
              "12        1.000001    0.000031       0.995370     0.011705\n",
              "13        1.000001    0.000027       0.995370     0.012473\n",
              "14        1.000001    0.000025       0.995370     0.011029\n",
              "15        1.000001    0.000020       0.995370     0.013729\n",
              "16        1.000001    0.000021       0.995370     0.013481\n",
              "17        1.000001    0.000013       0.995370     0.016550\n",
              "18        1.000001    0.000012       0.995370     0.014660\n",
              "19        1.000001    0.000010       0.995370     0.015010"
            ],
            "text/html": [
              "\n",
              "  <div id=\"df-edf1d056-47b7-4bcb-99cb-28164b01666e\" class=\"colab-df-container\">\n",
              "    <div>\n",
              "<style scoped>\n",
              "    .dataframe tbody tr th:only-of-type {\n",
              "        vertical-align: middle;\n",
              "    }\n",
              "\n",
              "    .dataframe tbody tr th {\n",
              "        vertical-align: top;\n",
              "    }\n",
              "\n",
              "    .dataframe thead th {\n",
              "        text-align: right;\n",
              "    }\n",
              "</style>\n",
              "<table border=\"1\" class=\"dataframe\">\n",
              "  <thead>\n",
              "    <tr style=\"text-align: right;\">\n",
              "      <th></th>\n",
              "      <th>train_accuracy</th>\n",
              "      <th>train_loss</th>\n",
              "      <th>test_accuracy</th>\n",
              "      <th>test_losses</th>\n",
              "    </tr>\n",
              "  </thead>\n",
              "  <tbody>\n",
              "    <tr>\n",
              "      <th>0</th>\n",
              "      <td>0.931604</td>\n",
              "      <td>0.255033</td>\n",
              "      <td>0.986111</td>\n",
              "      <td>0.077982</td>\n",
              "    </tr>\n",
              "    <tr>\n",
              "      <th>1</th>\n",
              "      <td>0.990567</td>\n",
              "      <td>0.040150</td>\n",
              "      <td>0.986111</td>\n",
              "      <td>0.066952</td>\n",
              "    </tr>\n",
              "    <tr>\n",
              "      <th>2</th>\n",
              "      <td>0.994694</td>\n",
              "      <td>0.021192</td>\n",
              "      <td>0.993055</td>\n",
              "      <td>0.041211</td>\n",
              "    </tr>\n",
              "    <tr>\n",
              "      <th>3</th>\n",
              "      <td>0.995284</td>\n",
              "      <td>0.016267</td>\n",
              "      <td>0.993055</td>\n",
              "      <td>0.017244</td>\n",
              "    </tr>\n",
              "    <tr>\n",
              "      <th>4</th>\n",
              "      <td>0.997053</td>\n",
              "      <td>0.010973</td>\n",
              "      <td>0.995370</td>\n",
              "      <td>0.020094</td>\n",
              "    </tr>\n",
              "    <tr>\n",
              "      <th>5</th>\n",
              "      <td>0.997053</td>\n",
              "      <td>0.006765</td>\n",
              "      <td>0.988426</td>\n",
              "      <td>0.058235</td>\n",
              "    </tr>\n",
              "    <tr>\n",
              "      <th>6</th>\n",
              "      <td>0.992925</td>\n",
              "      <td>0.040862</td>\n",
              "      <td>0.990741</td>\n",
              "      <td>0.026226</td>\n",
              "    </tr>\n",
              "    <tr>\n",
              "      <th>7</th>\n",
              "      <td>0.996463</td>\n",
              "      <td>0.015282</td>\n",
              "      <td>0.995370</td>\n",
              "      <td>0.024606</td>\n",
              "    </tr>\n",
              "    <tr>\n",
              "      <th>8</th>\n",
              "      <td>0.997642</td>\n",
              "      <td>0.012671</td>\n",
              "      <td>0.995370</td>\n",
              "      <td>0.011410</td>\n",
              "    </tr>\n",
              "    <tr>\n",
              "      <th>9</th>\n",
              "      <td>0.999411</td>\n",
              "      <td>0.001195</td>\n",
              "      <td>0.995370</td>\n",
              "      <td>0.015054</td>\n",
              "    </tr>\n",
              "    <tr>\n",
              "      <th>10</th>\n",
              "      <td>0.999411</td>\n",
              "      <td>0.000509</td>\n",
              "      <td>0.995370</td>\n",
              "      <td>0.009450</td>\n",
              "    </tr>\n",
              "    <tr>\n",
              "      <th>11</th>\n",
              "      <td>1.000001</td>\n",
              "      <td>0.000039</td>\n",
              "      <td>0.995370</td>\n",
              "      <td>0.011116</td>\n",
              "    </tr>\n",
              "    <tr>\n",
              "      <th>12</th>\n",
              "      <td>1.000001</td>\n",
              "      <td>0.000031</td>\n",
              "      <td>0.995370</td>\n",
              "      <td>0.011705</td>\n",
              "    </tr>\n",
              "    <tr>\n",
              "      <th>13</th>\n",
              "      <td>1.000001</td>\n",
              "      <td>0.000027</td>\n",
              "      <td>0.995370</td>\n",
              "      <td>0.012473</td>\n",
              "    </tr>\n",
              "    <tr>\n",
              "      <th>14</th>\n",
              "      <td>1.000001</td>\n",
              "      <td>0.000025</td>\n",
              "      <td>0.995370</td>\n",
              "      <td>0.011029</td>\n",
              "    </tr>\n",
              "    <tr>\n",
              "      <th>15</th>\n",
              "      <td>1.000001</td>\n",
              "      <td>0.000020</td>\n",
              "      <td>0.995370</td>\n",
              "      <td>0.013729</td>\n",
              "    </tr>\n",
              "    <tr>\n",
              "      <th>16</th>\n",
              "      <td>1.000001</td>\n",
              "      <td>0.000021</td>\n",
              "      <td>0.995370</td>\n",
              "      <td>0.013481</td>\n",
              "    </tr>\n",
              "    <tr>\n",
              "      <th>17</th>\n",
              "      <td>1.000001</td>\n",
              "      <td>0.000013</td>\n",
              "      <td>0.995370</td>\n",
              "      <td>0.016550</td>\n",
              "    </tr>\n",
              "    <tr>\n",
              "      <th>18</th>\n",
              "      <td>1.000001</td>\n",
              "      <td>0.000012</td>\n",
              "      <td>0.995370</td>\n",
              "      <td>0.014660</td>\n",
              "    </tr>\n",
              "    <tr>\n",
              "      <th>19</th>\n",
              "      <td>1.000001</td>\n",
              "      <td>0.000010</td>\n",
              "      <td>0.995370</td>\n",
              "      <td>0.015010</td>\n",
              "    </tr>\n",
              "  </tbody>\n",
              "</table>\n",
              "</div>\n",
              "    <div class=\"colab-df-buttons\">\n",
              "\n",
              "  <div class=\"colab-df-container\">\n",
              "    <button class=\"colab-df-convert\" onclick=\"convertToInteractive('df-edf1d056-47b7-4bcb-99cb-28164b01666e')\"\n",
              "            title=\"Convert this dataframe to an interactive table.\"\n",
              "            style=\"display:none;\">\n",
              "\n",
              "  <svg xmlns=\"http://www.w3.org/2000/svg\" height=\"24px\" viewBox=\"0 -960 960 960\">\n",
              "    <path d=\"M120-120v-720h720v720H120Zm60-500h600v-160H180v160Zm220 220h160v-160H400v160Zm0 220h160v-160H400v160ZM180-400h160v-160H180v160Zm440 0h160v-160H620v160ZM180-180h160v-160H180v160Zm440 0h160v-160H620v160Z\"/>\n",
              "  </svg>\n",
              "    </button>\n",
              "\n",
              "  <style>\n",
              "    .colab-df-container {\n",
              "      display:flex;\n",
              "      gap: 12px;\n",
              "    }\n",
              "\n",
              "    .colab-df-convert {\n",
              "      background-color: #E8F0FE;\n",
              "      border: none;\n",
              "      border-radius: 50%;\n",
              "      cursor: pointer;\n",
              "      display: none;\n",
              "      fill: #1967D2;\n",
              "      height: 32px;\n",
              "      padding: 0 0 0 0;\n",
              "      width: 32px;\n",
              "    }\n",
              "\n",
              "    .colab-df-convert:hover {\n",
              "      background-color: #E2EBFA;\n",
              "      box-shadow: 0px 1px 2px rgba(60, 64, 67, 0.3), 0px 1px 3px 1px rgba(60, 64, 67, 0.15);\n",
              "      fill: #174EA6;\n",
              "    }\n",
              "\n",
              "    .colab-df-buttons div {\n",
              "      margin-bottom: 4px;\n",
              "    }\n",
              "\n",
              "    [theme=dark] .colab-df-convert {\n",
              "      background-color: #3B4455;\n",
              "      fill: #D2E3FC;\n",
              "    }\n",
              "\n",
              "    [theme=dark] .colab-df-convert:hover {\n",
              "      background-color: #434B5C;\n",
              "      box-shadow: 0px 1px 3px 1px rgba(0, 0, 0, 0.15);\n",
              "      filter: drop-shadow(0px 1px 2px rgba(0, 0, 0, 0.3));\n",
              "      fill: #FFFFFF;\n",
              "    }\n",
              "  </style>\n",
              "\n",
              "    <script>\n",
              "      const buttonEl =\n",
              "        document.querySelector('#df-edf1d056-47b7-4bcb-99cb-28164b01666e button.colab-df-convert');\n",
              "      buttonEl.style.display =\n",
              "        google.colab.kernel.accessAllowed ? 'block' : 'none';\n",
              "\n",
              "      async function convertToInteractive(key) {\n",
              "        const element = document.querySelector('#df-edf1d056-47b7-4bcb-99cb-28164b01666e');\n",
              "        const dataTable =\n",
              "          await google.colab.kernel.invokeFunction('convertToInteractive',\n",
              "                                                    [key], {});\n",
              "        if (!dataTable) return;\n",
              "\n",
              "        const docLinkHtml = 'Like what you see? Visit the ' +\n",
              "          '<a target=\"_blank\" href=https://colab.research.google.com/notebooks/data_table.ipynb>data table notebook</a>'\n",
              "          + ' to learn more about interactive tables.';\n",
              "        element.innerHTML = '';\n",
              "        dataTable['output_type'] = 'display_data';\n",
              "        await google.colab.output.renderOutput(dataTable, element);\n",
              "        const docLink = document.createElement('div');\n",
              "        docLink.innerHTML = docLinkHtml;\n",
              "        element.appendChild(docLink);\n",
              "      }\n",
              "    </script>\n",
              "  </div>\n",
              "\n",
              "\n",
              "<div id=\"df-83824710-feb9-40a7-8537-5877e0cbd0e4\">\n",
              "  <button class=\"colab-df-quickchart\" onclick=\"quickchart('df-83824710-feb9-40a7-8537-5877e0cbd0e4')\"\n",
              "            title=\"Suggest charts.\"\n",
              "            style=\"display:none;\">\n",
              "\n",
              "<svg xmlns=\"http://www.w3.org/2000/svg\" height=\"24px\"viewBox=\"0 0 24 24\"\n",
              "     width=\"24px\">\n",
              "    <g>\n",
              "        <path d=\"M19 3H5c-1.1 0-2 .9-2 2v14c0 1.1.9 2 2 2h14c1.1 0 2-.9 2-2V5c0-1.1-.9-2-2-2zM9 17H7v-7h2v7zm4 0h-2V7h2v10zm4 0h-2v-4h2v4z\"/>\n",
              "    </g>\n",
              "</svg>\n",
              "  </button>\n",
              "\n",
              "<style>\n",
              "  .colab-df-quickchart {\n",
              "      --bg-color: #E8F0FE;\n",
              "      --fill-color: #1967D2;\n",
              "      --hover-bg-color: #E2EBFA;\n",
              "      --hover-fill-color: #174EA6;\n",
              "      --disabled-fill-color: #AAA;\n",
              "      --disabled-bg-color: #DDD;\n",
              "  }\n",
              "\n",
              "  [theme=dark] .colab-df-quickchart {\n",
              "      --bg-color: #3B4455;\n",
              "      --fill-color: #D2E3FC;\n",
              "      --hover-bg-color: #434B5C;\n",
              "      --hover-fill-color: #FFFFFF;\n",
              "      --disabled-bg-color: #3B4455;\n",
              "      --disabled-fill-color: #666;\n",
              "  }\n",
              "\n",
              "  .colab-df-quickchart {\n",
              "    background-color: var(--bg-color);\n",
              "    border: none;\n",
              "    border-radius: 50%;\n",
              "    cursor: pointer;\n",
              "    display: none;\n",
              "    fill: var(--fill-color);\n",
              "    height: 32px;\n",
              "    padding: 0;\n",
              "    width: 32px;\n",
              "  }\n",
              "\n",
              "  .colab-df-quickchart:hover {\n",
              "    background-color: var(--hover-bg-color);\n",
              "    box-shadow: 0 1px 2px rgba(60, 64, 67, 0.3), 0 1px 3px 1px rgba(60, 64, 67, 0.15);\n",
              "    fill: var(--button-hover-fill-color);\n",
              "  }\n",
              "\n",
              "  .colab-df-quickchart-complete:disabled,\n",
              "  .colab-df-quickchart-complete:disabled:hover {\n",
              "    background-color: var(--disabled-bg-color);\n",
              "    fill: var(--disabled-fill-color);\n",
              "    box-shadow: none;\n",
              "  }\n",
              "\n",
              "  .colab-df-spinner {\n",
              "    border: 2px solid var(--fill-color);\n",
              "    border-color: transparent;\n",
              "    border-bottom-color: var(--fill-color);\n",
              "    animation:\n",
              "      spin 1s steps(1) infinite;\n",
              "  }\n",
              "\n",
              "  @keyframes spin {\n",
              "    0% {\n",
              "      border-color: transparent;\n",
              "      border-bottom-color: var(--fill-color);\n",
              "      border-left-color: var(--fill-color);\n",
              "    }\n",
              "    20% {\n",
              "      border-color: transparent;\n",
              "      border-left-color: var(--fill-color);\n",
              "      border-top-color: var(--fill-color);\n",
              "    }\n",
              "    30% {\n",
              "      border-color: transparent;\n",
              "      border-left-color: var(--fill-color);\n",
              "      border-top-color: var(--fill-color);\n",
              "      border-right-color: var(--fill-color);\n",
              "    }\n",
              "    40% {\n",
              "      border-color: transparent;\n",
              "      border-right-color: var(--fill-color);\n",
              "      border-top-color: var(--fill-color);\n",
              "    }\n",
              "    60% {\n",
              "      border-color: transparent;\n",
              "      border-right-color: var(--fill-color);\n",
              "    }\n",
              "    80% {\n",
              "      border-color: transparent;\n",
              "      border-right-color: var(--fill-color);\n",
              "      border-bottom-color: var(--fill-color);\n",
              "    }\n",
              "    90% {\n",
              "      border-color: transparent;\n",
              "      border-bottom-color: var(--fill-color);\n",
              "    }\n",
              "  }\n",
              "</style>\n",
              "\n",
              "  <script>\n",
              "    async function quickchart(key) {\n",
              "      const quickchartButtonEl =\n",
              "        document.querySelector('#' + key + ' button');\n",
              "      quickchartButtonEl.disabled = true;  // To prevent multiple clicks.\n",
              "      quickchartButtonEl.classList.add('colab-df-spinner');\n",
              "      try {\n",
              "        const charts = await google.colab.kernel.invokeFunction(\n",
              "            'suggestCharts', [key], {});\n",
              "      } catch (error) {\n",
              "        console.error('Error during call to suggestCharts:', error);\n",
              "      }\n",
              "      quickchartButtonEl.classList.remove('colab-df-spinner');\n",
              "      quickchartButtonEl.classList.add('colab-df-quickchart-complete');\n",
              "    }\n",
              "    (() => {\n",
              "      let quickchartButtonEl =\n",
              "        document.querySelector('#df-83824710-feb9-40a7-8537-5877e0cbd0e4 button');\n",
              "      quickchartButtonEl.style.display =\n",
              "        google.colab.kernel.accessAllowed ? 'block' : 'none';\n",
              "    })();\n",
              "  </script>\n",
              "</div>\n",
              "    </div>\n",
              "  </div>\n"
            ]
          },
          "metadata": {},
          "execution_count": 11
        }
      ]
    },
    {
      "cell_type": "code",
      "source": [
        "from sklearn.metrics import ConfusionMatrixDisplay\n",
        "import pandas as pd\n",
        "import matplotlib.pyplot as plt\n",
        "import numpy as np\n",
        "\n",
        "\n",
        "plt_epochs = list(range(20))\n",
        "\n",
        "#Calculating the accuracy\n",
        "acc = history['train_accuracy']\n",
        "val_acc = history['test_accuracy']\n",
        "\n",
        "#Calculating the loss\n",
        "loss = history['train_loss']\n",
        "val_loss = history['test_losses']\n",
        "\n",
        "#setting the size of the figures\n",
        "fig, ax = plt.subplots(1,3,figsize=(5, 0.1))\n",
        "\n",
        "#plotting the accuracy\n",
        "ax[0].plot(plt_epochs, acc, label='Train Accuracy')\n",
        "ax[0].plot(plt_epochs, val_acc, label='Validation Accuracy')\n",
        "ax[0].set_xlabel('Number of Epochs',weight='bold')\n",
        "ax[0].set_ylabel('Accuracy',weight='bold')\n",
        "ax[0].set_title('ConvNext Tiny Model Accuracy',weight='bold')\n",
        "ax[0].legend()\n",
        "ax[0].legend(prop={'size': 8})\n",
        "\n",
        "#plotting the loss\n",
        "ax[1].plot(plt_epochs, loss, label='Train Loss')\n",
        "ax[1].plot(plt_epochs, val_loss, label='Validation Loss')\n",
        "ax[1].set_xlabel('Number of Epochs',weight='bold')\n",
        "ax[1].set_ylabel('Loss',weight='bold')\n",
        "ax[1].set_title('Model Loss',weight='bold')\n",
        "ax[1].legend()\n",
        "ax[1].legend(prop={'size': 8})\n",
        "\n",
        "# confusion matrix\n",
        "\n",
        "cm1 = [[239,1],\n",
        "      [2,182]]\n",
        "label_names = ['Fetus','Mother']\n",
        "\n",
        "cm1= np.array(cm1)\n",
        "# label_names = ['akiec','bcc','bkl','df','mel','nv','vasc']\n",
        "disp1 = ConfusionMatrixDisplay(confusion_matrix=cm1, display_labels=label_names)\n",
        "disp1.plot(ax=ax[2],xticks_rotation='vertical',cmap='BuPu')\n",
        "disp1.im_.colorbar.remove()\n",
        "fig = disp1.ax_.get_figure()\n",
        "fig.set_figwidth(9.4)\n",
        "fig.set_figheight(2.3)\n",
        "ax[2].set_xlabel('Predicted labels',weight='bold')\n",
        "ax[2].set_ylabel('True labels',weight='bold')\n",
        "ax[2].set_title('Confusion Matrix',weight='bold')\n",
        "plt.subplots_adjust(hspace=0.5, wspace=0.5)\n",
        "ax0 = ax[0].get_position()\n",
        "ax1 = ax[1].get_position()\n",
        "ax2 = ax[2].get_position()\n",
        "# ax[2].set_xticks(weight = 'bold')\n",
        "ax[0].set_position([ax0.x0,ax0.y0,.27,1])\n",
        "ax[1].set_position([.46,ax1.y0,.27,1])\n",
        "ax[2].set_position([.8,ax2.y0,.27,1])\n",
        "plt.show()"
      ],
      "metadata": {
        "colab": {
          "base_uri": "https://localhost:8080/",
          "height": 367
        },
        "id": "LmjeLSqbiWTh",
        "outputId": "aca75c26-6bb9-44c4-f84b-aa60b78d3256"
      },
      "execution_count": null,
      "outputs": [
        {
          "output_type": "display_data",
          "data": {
            "text/plain": [
              "<Figure size 940x230 with 3 Axes>"
            ],
            "image/png": "[encoded data removed]"
          },
          "metadata": {}
        }
      ]
    },
    {
      "cell_type": "code",
      "source": [
        "history = pd.read_csv('/content/drive/MyDrive/deepvit_history_with_specaug.csv')\n",
        "history"
      ],
      "metadata": {
        "colab": {
          "base_uri": "https://localhost:8080/",
          "height": 990
        },
        "id": "5VmUxlgFkhKS",
        "outputId": "419a1cd9-e9bb-49d7-9fcc-a15082fe5cb5"
      },
      "execution_count": null,
      "outputs": [
        {
          "output_type": "execute_result",
          "data": {
            "text/plain": [
              "    train_accuracy  train_loss  test_accuracy  test_losses\n",
              "0         0.908609    0.200158       0.962963     0.097900\n",
              "1         0.979363    0.061659       0.974537     0.077744\n",
              "2         0.991746    0.033030       0.981481     0.075814\n",
              "3         0.987619    0.041672       0.981481     0.051530\n",
              "4         0.992925    0.021614       0.981481     0.064048\n",
              "5         0.989387    0.029899       0.986111     0.029305\n",
              "6         0.988208    0.028298       0.993055     0.027073\n",
              "7         0.998822    0.005927       0.990741     0.027640\n",
              "8         0.991746    0.016778       0.990741     0.028352\n",
              "9         0.997053    0.008364       0.995370     0.030282\n",
              "10        0.999411    0.001643       0.997685     0.019372\n",
              "11        0.997053    0.006698       0.986111     0.049791\n",
              "12        0.998232    0.005407       0.983796     0.070277\n",
              "13        0.992925    0.016147       0.988426     0.027357\n",
              "14        0.999411    0.002145       0.995370     0.036205\n",
              "15        1.000001    0.000542       0.993055     0.039208\n",
              "16        1.000001    0.000212       0.993055     0.029759\n",
              "17        1.000001    0.000158       0.995370     0.031011\n",
              "18        1.000001    0.000152       0.995370     0.031065\n",
              "19        0.999411    0.003697       0.990741     0.049377\n",
              "20        0.994694    0.022531       0.995370     0.028088\n",
              "21        1.000001    0.000325       0.995370     0.023869\n",
              "22        1.000001    0.000318       0.993055     0.041236\n",
              "23        1.000001    0.000139       0.995370     0.036291\n",
              "24        1.000001    0.000097       0.995370     0.027150\n",
              "25        1.000001    0.000082       0.995370     0.029745\n",
              "26        1.000001    0.000071       0.993055     0.032267\n",
              "27        1.000001    0.000068       0.997685     0.022179\n",
              "28        1.000001    0.000068       0.997985     0.021779\n",
              "29        1.000001    0.000068       0.998385     0.019779"
            ],
            "text/html": [
              "\n",
              "  <div id=\"df-e4bc97b5-20e3-4196-a7c9-70a1d1df1346\" class=\"colab-df-container\">\n",
              "    <div>\n",
              "<style scoped>\n",
              "    .dataframe tbody tr th:only-of-type {\n",
              "        vertical-align: middle;\n",
              "    }\n",
              "\n",
              "    .dataframe tbody tr th {\n",
              "        vertical-align: top;\n",
              "    }\n",
              "\n",
              "    .dataframe thead th {\n",
              "        text-align: right;\n",
              "    }\n",
              "</style>\n",
              "<table border=\"1\" class=\"dataframe\">\n",
              "  <thead>\n",
              "    <tr style=\"text-align: right;\">\n",
              "      <th></th>\n",
              "      <th>train_accuracy</th>\n",
              "      <th>train_loss</th>\n",
              "      <th>test_accuracy</th>\n",
              "      <th>test_losses</th>\n",
              "    </tr>\n",
              "  </thead>\n",
              "  <tbody>\n",
              "    <tr>\n",
              "      <th>0</th>\n",
              "      <td>0.908609</td>\n",
              "      <td>0.200158</td>\n",
              "      <td>0.962963</td>\n",
              "      <td>0.097900</td>\n",
              "    </tr>\n",
              "    <tr>\n",
              "      <th>1</th>\n",
              "      <td>0.979363</td>\n",
              "      <td>0.061659</td>\n",
              "      <td>0.974537</td>\n",
              "      <td>0.077744</td>\n",
              "    </tr>\n",
              "    <tr>\n",
              "      <th>2</th>\n",
              "      <td>0.991746</td>\n",
              "      <td>0.033030</td>\n",
              "      <td>0.981481</td>\n",
              "      <td>0.075814</td>\n",
              "    </tr>\n",
              "    <tr>\n",
              "      <th>3</th>\n",
              "      <td>0.987619</td>\n",
              "      <td>0.041672</td>\n",
              "      <td>0.981481</td>\n",
              "      <td>0.051530</td>\n",
              "    </tr>\n",
              "    <tr>\n",
              "      <th>4</th>\n",
              "      <td>0.992925</td>\n",
              "      <td>0.021614</td>\n",
              "      <td>0.981481</td>\n",
              "      <td>0.064048</td>\n",
              "    </tr>\n",
              "    <tr>\n",
              "      <th>5</th>\n",
              "      <td>0.989387</td>\n",
              "      <td>0.029899</td>\n",
              "      <td>0.986111</td>\n",
              "      <td>0.029305</td>\n",
              "    </tr>\n",
              "    <tr>\n",
              "      <th>6</th>\n",
              "      <td>0.988208</td>\n",
              "      <td>0.028298</td>\n",
              "      <td>0.993055</td>\n",
              "      <td>0.027073</td>\n",
              "    </tr>\n",
              "    <tr>\n",
              "      <th>7</th>\n",
              "      <td>0.998822</td>\n",
              "      <td>0.005927</td>\n",
              "      <td>0.990741</td>\n",
              "      <td>0.027640</td>\n",
              "    </tr>\n",
              "    <tr>\n",
              "      <th>8</th>\n",
              "      <td>0.991746</td>\n",
              "      <td>0.016778</td>\n",
              "      <td>0.990741</td>\n",
              "      <td>0.028352</td>\n",
              "    </tr>\n",
              "    <tr>\n",
              "      <th>9</th>\n",
              "      <td>0.997053</td>\n",
              "      <td>0.008364</td>\n",
              "      <td>0.995370</td>\n",
              "      <td>0.030282</td>\n",
              "    </tr>\n",
              "    <tr>\n",
              "      <th>10</th>\n",
              "      <td>0.999411</td>\n",
              "      <td>0.001643</td>\n",
              "      <td>0.997685</td>\n",
              "      <td>0.019372</td>\n",
              "    </tr>\n",
              "    <tr>\n",
              "      <th>11</th>\n",
              "      <td>0.997053</td>\n",
              "      <td>0.006698</td>\n",
              "      <td>0.986111</td>\n",
              "      <td>0.049791</td>\n",
              "    </tr>\n",
              "    <tr>\n",
              "      <th>12</th>\n",
              "      <td>0.998232</td>\n",
              "      <td>0.005407</td>\n",
              "      <td>0.983796</td>\n",
              "      <td>0.070277</td>\n",
              "    </tr>\n",
              "    <tr>\n",
              "      <th>13</th>\n",
              "      <td>0.992925</td>\n",
              "      <td>0.016147</td>\n",
              "      <td>0.988426</td>\n",
              "      <td>0.027357</td>\n",
              "    </tr>\n",
              "    <tr>\n",
              "      <th>14</th>\n",
              "      <td>0.999411</td>\n",
              "      <td>0.002145</td>\n",
              "      <td>0.995370</td>\n",
              "      <td>0.036205</td>\n",
              "    </tr>\n",
              "    <tr>\n",
              "      <th>15</th>\n",
              "      <td>1.000001</td>\n",
              "      <td>0.000542</td>\n",
              "      <td>0.993055</td>\n",
              "      <td>0.039208</td>\n",
              "    </tr>\n",
              "    <tr>\n",
              "      <th>16</th>\n",
              "      <td>1.000001</td>\n",
              "      <td>0.000212</td>\n",
              "      <td>0.993055</td>\n",
              "      <td>0.029759</td>\n",
              "    </tr>\n",
              "    <tr>\n",
              "      <th>17</th>\n",
              "      <td>1.000001</td>\n",
              "      <td>0.000158</td>\n",
              "      <td>0.995370</td>\n",
              "      <td>0.031011</td>\n",
              "    </tr>\n",
              "    <tr>\n",
              "      <th>18</th>\n",
              "      <td>1.000001</td>\n",
              "      <td>0.000152</td>\n",
              "      <td>0.995370</td>\n",
              "      <td>0.031065</td>\n",
              "    </tr>\n",
              "    <tr>\n",
              "      <th>19</th>\n",
              "      <td>0.999411</td>\n",
              "      <td>0.003697</td>\n",
              "      <td>0.990741</td>\n",
              "      <td>0.049377</td>\n",
              "    </tr>\n",
              "    <tr>\n",
              "      <th>20</th>\n",
              "      <td>0.994694</td>\n",
              "      <td>0.022531</td>\n",
              "      <td>0.995370</td>\n",
              "      <td>0.028088</td>\n",
              "    </tr>\n",
              "    <tr>\n",
              "      <th>21</th>\n",
              "      <td>1.000001</td>\n",
              "      <td>0.000325</td>\n",
              "      <td>0.995370</td>\n",
              "      <td>0.023869</td>\n",
              "    </tr>\n",
              "    <tr>\n",
              "      <th>22</th>\n",
              "      <td>1.000001</td>\n",
              "      <td>0.000318</td>\n",
              "      <td>0.993055</td>\n",
              "      <td>0.041236</td>\n",
              "    </tr>\n",
              "    <tr>\n",
              "      <th>23</th>\n",
              "      <td>1.000001</td>\n",
              "      <td>0.000139</td>\n",
              "      <td>0.995370</td>\n",
              "      <td>0.036291</td>\n",
              "    </tr>\n",
              "    <tr>\n",
              "      <th>24</th>\n",
              "      <td>1.000001</td>\n",
              "      <td>0.000097</td>\n",
              "      <td>0.995370</td>\n",
              "      <td>0.027150</td>\n",
              "    </tr>\n",
              "    <tr>\n",
              "      <th>25</th>\n",
              "      <td>1.000001</td>\n",
              "      <td>0.000082</td>\n",
              "      <td>0.995370</td>\n",
              "      <td>0.029745</td>\n",
              "    </tr>\n",
              "    <tr>\n",
              "      <th>26</th>\n",
              "      <td>1.000001</td>\n",
              "      <td>0.000071</td>\n",
              "      <td>0.993055</td>\n",
              "      <td>0.032267</td>\n",
              "    </tr>\n",
              "    <tr>\n",
              "      <th>27</th>\n",
              "      <td>1.000001</td>\n",
              "      <td>0.000068</td>\n",
              "      <td>0.997685</td>\n",
              "      <td>0.022179</td>\n",
              "    </tr>\n",
              "    <tr>\n",
              "      <th>28</th>\n",
              "      <td>1.000001</td>\n",
              "      <td>0.000068</td>\n",
              "      <td>0.997985</td>\n",
              "      <td>0.021779</td>\n",
              "    </tr>\n",
              "    <tr>\n",
              "      <th>29</th>\n",
              "      <td>1.000001</td>\n",
              "      <td>0.000068</td>\n",
              "      <td>0.998385</td>\n",
              "      <td>0.019779</td>\n",
              "    </tr>\n",
              "  </tbody>\n",
              "</table>\n",
              "</div>\n",
              "    <div class=\"colab-df-buttons\">\n",
              "\n",
              "  <div class=\"colab-df-container\">\n",
              "    <button class=\"colab-df-convert\" onclick=\"convertToInteractive('df-e4bc97b5-20e3-4196-a7c9-70a1d1df1346')\"\n",
              "            title=\"Convert this dataframe to an interactive table.\"\n",
              "            style=\"display:none;\">\n",
              "\n",
              "  <svg xmlns=\"http://www.w3.org/2000/svg\" height=\"24px\" viewBox=\"0 -960 960 960\">\n",
              "    <path d=\"M120-120v-720h720v720H120Zm60-500h600v-160H180v160Zm220 220h160v-160H400v160Zm0 220h160v-160H400v160ZM180-400h160v-160H180v160Zm440 0h160v-160H620v160ZM180-180h160v-160H180v160Zm440 0h160v-160H620v160Z\"/>\n",
              "  </svg>\n",
              "    </button>\n",
              "\n",
              "  <style>\n",
              "    .colab-df-container {\n",
              "      display:flex;\n",
              "      gap: 12px;\n",
              "    }\n",
              "\n",
              "    .colab-df-convert {\n",
              "      background-color: #E8F0FE;\n",
              "      border: none;\n",
              "      border-radius: 50%;\n",
              "      cursor: pointer;\n",
              "      display: none;\n",
              "      fill: #1967D2;\n",
              "      height: 32px;\n",
              "      padding: 0 0 0 0;\n",
              "      width: 32px;\n",
              "    }\n",
              "\n",
              "    .colab-df-convert:hover {\n",
              "      background-color: #E2EBFA;\n",
              "      box-shadow: 0px 1px 2px rgba(60, 64, 67, 0.3), 0px 1px 3px 1px rgba(60, 64, 67, 0.15);\n",
              "      fill: #174EA6;\n",
              "    }\n",
              "\n",
              "    .colab-df-buttons div {\n",
              "      margin-bottom: 4px;\n",
              "    }\n",
              "\n",
              "    [theme=dark] .colab-df-convert {\n",
              "      background-color: #3B4455;\n",
              "      fill: #D2E3FC;\n",
              "    }\n",
              "\n",
              "    [theme=dark] .colab-df-convert:hover {\n",
              "      background-color: #434B5C;\n",
              "      box-shadow: 0px 1px 3px 1px rgba(0, 0, 0, 0.15);\n",
              "      filter: drop-shadow(0px 1px 2px rgba(0, 0, 0, 0.3));\n",
              "      fill: #FFFFFF;\n",
              "    }\n",
              "  </style>\n",
              "\n",
              "    <script>\n",
              "      const buttonEl =\n",
              "        document.querySelector('#df-e4bc97b5-20e3-4196-a7c9-70a1d1df1346 button.colab-df-convert');\n",
              "      buttonEl.style.display =\n",
              "        google.colab.kernel.accessAllowed ? 'block' : 'none';\n",
              "\n",
              "      async function convertToInteractive(key) {\n",
              "        const element = document.querySelector('#df-e4bc97b5-20e3-4196-a7c9-70a1d1df1346');\n",
              "        const dataTable =\n",
              "          await google.colab.kernel.invokeFunction('convertToInteractive',\n",
              "                                                    [key], {});\n",
              "        if (!dataTable) return;\n",
              "\n",
              "        const docLinkHtml = 'Like what you see? Visit the ' +\n",
              "          '<a target=\"_blank\" href=https://colab.research.google.com/notebooks/data_table.ipynb>data table notebook</a>'\n",
              "          + ' to learn more about interactive tables.';\n",
              "        element.innerHTML = '';\n",
              "        dataTable['output_type'] = 'display_data';\n",
              "        await google.colab.output.renderOutput(dataTable, element);\n",
              "        const docLink = document.createElement('div');\n",
              "        docLink.innerHTML = docLinkHtml;\n",
              "        element.appendChild(docLink);\n",
              "      }\n",
              "    </script>\n",
              "  </div>\n",
              "\n",
              "\n",
              "<div id=\"df-c9149e19-6c2a-455f-b912-72a5114792df\">\n",
              "  <button class=\"colab-df-quickchart\" onclick=\"quickchart('df-c9149e19-6c2a-455f-b912-72a5114792df')\"\n",
              "            title=\"Suggest charts.\"\n",
              "            style=\"display:none;\">\n",
              "\n",
              "<svg xmlns=\"http://www.w3.org/2000/svg\" height=\"24px\"viewBox=\"0 0 24 24\"\n",
              "     width=\"24px\">\n",
              "    <g>\n",
              "        <path d=\"M19 3H5c-1.1 0-2 .9-2 2v14c0 1.1.9 2 2 2h14c1.1 0 2-.9 2-2V5c0-1.1-.9-2-2-2zM9 17H7v-7h2v7zm4 0h-2V7h2v10zm4 0h-2v-4h2v4z\"/>\n",
              "    </g>\n",
              "</svg>\n",
              "  </button>\n",
              "\n",
              "<style>\n",
              "  .colab-df-quickchart {\n",
              "      --bg-color: #E8F0FE;\n",
              "      --fill-color: #1967D2;\n",
              "      --hover-bg-color: #E2EBFA;\n",
              "      --hover-fill-color: #174EA6;\n",
              "      --disabled-fill-color: #AAA;\n",
              "      --disabled-bg-color: #DDD;\n",
              "  }\n",
              "\n",
              "  [theme=dark] .colab-df-quickchart {\n",
              "      --bg-color: #3B4455;\n",
              "      --fill-color: #D2E3FC;\n",
              "      --hover-bg-color: #434B5C;\n",
              "      --hover-fill-color: #FFFFFF;\n",
              "      --disabled-bg-color: #3B4455;\n",
              "      --disabled-fill-color: #666;\n",
              "  }\n",
              "\n",
              "  .colab-df-quickchart {\n",
              "    background-color: var(--bg-color);\n",
              "    border: none;\n",
              "    border-radius: 50%;\n",
              "    cursor: pointer;\n",
              "    display: none;\n",
              "    fill: var(--fill-color);\n",
              "    height: 32px;\n",
              "    padding: 0;\n",
              "    width: 32px;\n",
              "  }\n",
              "\n",
              "  .colab-df-quickchart:hover {\n",
              "    background-color: var(--hover-bg-color);\n",
              "    box-shadow: 0 1px 2px rgba(60, 64, 67, 0.3), 0 1px 3px 1px rgba(60, 64, 67, 0.15);\n",
              "    fill: var(--button-hover-fill-color);\n",
              "  }\n",
              "\n",
              "  .colab-df-quickchart-complete:disabled,\n",
              "  .colab-df-quickchart-complete:disabled:hover {\n",
              "    background-color: var(--disabled-bg-color);\n",
              "    fill: var(--disabled-fill-color);\n",
              "    box-shadow: none;\n",
              "  }\n",
              "\n",
              "  .colab-df-spinner {\n",
              "    border: 2px solid var(--fill-color);\n",
              "    border-color: transparent;\n",
              "    border-bottom-color: var(--fill-color);\n",
              "    animation:\n",
              "      spin 1s steps(1) infinite;\n",
              "  }\n",
              "\n",
              "  @keyframes spin {\n",
              "    0% {\n",
              "      border-color: transparent;\n",
              "      border-bottom-color: var(--fill-color);\n",
              "      border-left-color: var(--fill-color);\n",
              "    }\n",
              "    20% {\n",
              "      border-color: transparent;\n",
              "      border-left-color: var(--fill-color);\n",
              "      border-top-color: var(--fill-color);\n",
              "    }\n",
              "    30% {\n",
              "      border-color: transparent;\n",
              "      border-left-color: var(--fill-color);\n",
              "      border-top-color: var(--fill-color);\n",
              "      border-right-color: var(--fill-color);\n",
              "    }\n",
              "    40% {\n",
              "      border-color: transparent;\n",
              "      border-right-color: var(--fill-color);\n",
              "      border-top-color: var(--fill-color);\n",
              "    }\n",
              "    60% {\n",
              "      border-color: transparent;\n",
              "      border-right-color: var(--fill-color);\n",
              "    }\n",
              "    80% {\n",
              "      border-color: transparent;\n",
              "      border-right-color: var(--fill-color);\n",
              "      border-bottom-color: var(--fill-color);\n",
              "    }\n",
              "    90% {\n",
              "      border-color: transparent;\n",
              "      border-bottom-color: var(--fill-color);\n",
              "    }\n",
              "  }\n",
              "</style>\n",
              "\n",
              "  <script>\n",
              "    async function quickchart(key) {\n",
              "      const quickchartButtonEl =\n",
              "        document.querySelector('#' + key + ' button');\n",
              "      quickchartButtonEl.disabled = true;  // To prevent multiple clicks.\n",
              "      quickchartButtonEl.classList.add('colab-df-spinner');\n",
              "      try {\n",
              "        const charts = await google.colab.kernel.invokeFunction(\n",
              "            'suggestCharts', [key], {});\n",
              "      } catch (error) {\n",
              "        console.error('Error during call to suggestCharts:', error);\n",
              "      }\n",
              "      quickchartButtonEl.classList.remove('colab-df-spinner');\n",
              "      quickchartButtonEl.classList.add('colab-df-quickchart-complete');\n",
              "    }\n",
              "    (() => {\n",
              "      let quickchartButtonEl =\n",
              "        document.querySelector('#df-c9149e19-6c2a-455f-b912-72a5114792df button');\n",
              "      quickchartButtonEl.style.display =\n",
              "        google.colab.kernel.accessAllowed ? 'block' : 'none';\n",
              "    })();\n",
              "  </script>\n",
              "</div>\n",
              "    </div>\n",
              "  </div>\n"
            ]
          },
          "metadata": {},
          "execution_count": 13
        }
      ]
    },
    {
      "cell_type": "code",
      "source": [
        "from sklearn.metrics import ConfusionMatrixDisplay\n",
        "import pandas as pd\n",
        "import matplotlib.pyplot as plt\n",
        "import numpy as np\n",
        "\n",
        "\n",
        "plt_epochs = list(range(30))\n",
        "\n",
        "#Calculating the accuracy\n",
        "acc = history['train_accuracy']\n",
        "val_acc = history['test_accuracy']\n",
        "\n",
        "#Calculating the loss\n",
        "loss = history['train_loss']\n",
        "val_loss = history['test_losses']\n",
        "\n",
        "#setting the size of the figures\n",
        "fig, ax = plt.subplots(1,3,figsize=(5, 0.1))\n",
        "\n",
        "#plotting the accuracy\n",
        "ax[0].plot(plt_epochs, acc, label='Train Accuracy')\n",
        "ax[0].plot(plt_epochs, val_acc, label='Validation Accuracy')\n",
        "ax[0].set_xlabel('Number of Epochs',weight='bold')\n",
        "ax[0].set_ylabel('Accuracy',weight='bold')\n",
        "ax[0].set_title('ConvNext Tiny Model Accuracy',weight='bold')\n",
        "ax[0].legend()\n",
        "ax[0].legend(prop={'size': 8})\n",
        "\n",
        "#plotting the loss\n",
        "ax[1].plot(plt_epochs, loss, label='Train Loss')\n",
        "ax[1].plot(plt_epochs, val_loss, label='Validation Loss')\n",
        "ax[1].set_xlabel('Number of Epochs',weight='bold')\n",
        "ax[1].set_ylabel('Loss',weight='bold')\n",
        "ax[1].set_title('Model Loss',weight='bold')\n",
        "ax[1].legend()\n",
        "ax[1].legend(prop={'size': 8})\n",
        "\n",
        "# confusion matrix\n",
        "\n",
        "cm1 = [[240,0],\n",
        "      [2,182]]\n",
        "label_names = ['Fetus','Mother']\n",
        "\n",
        "cm1= np.array(cm1)\n",
        "# label_names = ['akiec','bcc','bkl','df','mel','nv','vasc']\n",
        "disp1 = ConfusionMatrixDisplay(confusion_matrix=cm1, display_labels=label_names)\n",
        "disp1.plot(ax=ax[2],xticks_rotation='vertical',cmap='BuPu')\n",
        "disp1.im_.colorbar.remove()\n",
        "fig = disp1.ax_.get_figure()\n",
        "fig.set_figwidth(9.4)\n",
        "fig.set_figheight(2.3)\n",
        "ax[2].set_xlabel('Predicted labels',weight='bold')\n",
        "ax[2].set_ylabel('True labels',weight='bold')\n",
        "ax[2].set_title('Confusion Matrix',weight='bold')\n",
        "ax[2].grid()\n",
        "plt.subplots_adjust(hspace=0.5, wspace=0.5)\n",
        "ax0 = ax[0].get_position()\n",
        "ax1 = ax[1].get_position()\n",
        "ax2 = ax[2].get_position()\n",
        "# ax[2].set_xticks(weight = 'bold')\n",
        "ax[0].set_position([ax0.x0,ax0.y0,.27,1])\n",
        "ax[1].set_position([.46,ax1.y0,.27,1])\n",
        "ax[2].set_position([.8,ax2.y0,.27,1])\n",
        "plt.show()"
      ],
      "metadata": {
        "colab": {
          "base_uri": "https://localhost:8080/",
          "height": 367
        },
        "id": "ig9DJc0dkvRy",
        "outputId": "0e2975c3-b827-4bb2-e1fd-c4b0930b8dfc"
      },
      "execution_count": null,
      "outputs": [
        {
          "output_type": "display_data",
          "data": {
            "text/plain": [
              "<Figure size 940x230 with 3 Axes>"
            ],
            "image/png": "[encoded data removed]"
          },
          "metadata": {}
        }
      ]
    },
    {
      "cell_type": "code",
      "execution_count": null,
      "metadata": {
        "id": "yqXBo7QHruw3"
      },
      "outputs": [],
      "source": [
        "\n",
        "import keras\n",
        "from matplotlib import pyplot as plt\n",
        "\n",
        "plt.subplots(figsize=(8,3))\n",
        "plt.subplot(1,2,1)\n",
        "plt.plot(history.history['Accuracy'])\n",
        "plt.plot(history.history['val_Accuracy'])\n",
        "plt.title('ResNet152V2 Model Accuracy',weight = 'bold')\n",
        "plt.ylabel('Accuracy',weight = 'bold')\n",
        "plt.xlabel('Number of Epochs',weight = 'bold')\n",
        "plt.legend(['Train_Acc', 'Val_Acc'], loc='upper left')\n",
        "\n",
        "plt.subplot(1,2,2)\n",
        "plt.plot(history.history['loss'])\n",
        "plt.plot(history.history['val_loss'])\n",
        "plt.title('ResNet152V2 Model Loss',weight = 'bold')\n",
        "plt.ylabel('Loss',weight = 'bold')\n",
        "plt.xlabel('Number of Epochs',weight = 'bold')\n",
        "plt.legend(['Train_Loss', 'Val_Loss'], loc='upper left')\n",
        "plt.show()\n"
      ]
    },
    {
      "cell_type": "code",
      "execution_count": null,
      "metadata": {
        "colab": {
          "background_save": true
        },
        "id": "cLZ6qjflCKgq"
      },
      "outputs": [],
      "source": [
        "y_test = np.array(test_generator.classes)[test_generator.index_array]\n",
        "\n",
        "Y_preds = model.predict_generator(test_generator, num_of_test_samples // batch_size+1,workers=0)\n",
        "Y_pred = np.argmax(Y_preds, axis=1)"
      ]
    },
    {
      "cell_type": "code",
      "execution_count": null,
      "metadata": {
        "colab": {
          "base_uri": "https://localhost:8080/"
        },
        "id": "LHd00asUPbgT",
        "outputId": "5c772392-0b2d-44e6-ab45-9dd17a7d657e"
      },
      "outputs": [
        {
          "output_type": "stream",
          "name": "stdout",
          "text": [
            "[0.3117904  0.11470164 0.11470156 0.11470156 0.11470171 0.11470155\n",
            " 0.11470155]\n"
          ]
        },
        {
          "output_type": "execute_result",
          "data": {
            "text/plain": [
              "1.2236445"
            ]
          },
          "metadata": {},
          "execution_count": 24
        }
      ],
      "source": [
        "def softmax(x):\n",
        "    e_x = np.exp(x - np.max(x))\n",
        "    return e_x / e_x.sum(axis=0)\n",
        "\n",
        "output_vectors = np.array([softmax(vector) for vector in Y_preds])\n",
        "print(output_vectors[0])\n",
        "\n",
        "scce = tf.keras.losses.SparseCategoricalCrossentropy()\n",
        "scce(y_test, output_vectors).numpy()"
      ]
    },
    {
      "cell_type": "code",
      "execution_count": null,
      "metadata": {
        "id": "vusCjKXdry4R"
      },
      "outputs": [],
      "source": [
        "import sklearn\n",
        "from sklearn.metrics import classification_report, confusion_matrix\n",
        "\n",
        "lesion_type_dict = {\n",
        "    'nv': 'Melanocytic nevi (nv)',\n",
        "    'mel': 'Melanoma (mel)',\n",
        "    'bkl': 'Benign keratosis-like lesions (bkl)',\n",
        "    'bcc': 'Basal cell carcinoma (bcc)',\n",
        "    'akiec': 'Actinic keratoses (akiec)',\n",
        "    'vasc': 'Vascular lesions (vasc)',\n",
        "    'df': 'Dermatofibroma (df)'\n",
        "}\n",
        "label_mapping = {\n",
        "    0: 'nv',\n",
        "    1: 'mel',\n",
        "    2: 'bkl',\n",
        "    3: 'bcc',\n",
        "    4: 'akiec',\n",
        "    5: 'vasc',\n",
        "    6: 'df'\n",
        "}\n",
        "\n",
        "print('Confusion Matrix')\n",
        "print(confusion_matrix(test_generator.classes, Y_pred))\n",
        "print(\"                                                                        \")\n",
        "print('Classification Report using ResNet50V2')\n",
        "target_names = ['nv', 'mel', 'bkl','bcc','akiec','vasc','df']\n",
        "print(classification_report(test_generator.classes, Y_pred, target_names=target_names))"
      ]
    },
    {
      "cell_type": "code",
      "execution_count": null,
      "metadata": {
        "id": "cxEt-sCHr1S4"
      },
      "outputs": [],
      "source": [
        "from sklearn.metrics import ConfusionMatrixDisplay\n",
        "from sklearn.metrics import confusion_matrix\n",
        "import matplotlib.pyplot as plt\n",
        "import numpy as np\n",
        "\n",
        "\n",
        "\n",
        "labels = ['nv', 'mel', 'bkl','bcc','akiec','vasc','df']\n",
        "\n",
        "\n",
        "cm = confusion_matrix(y_test, Y_pred)\n",
        "\n",
        "disp = ConfusionMatrixDisplay(confusion_matrix=cm, display_labels=labels)\n",
        "\n",
        "disp.plot(cmap=plt.cm.Reds_r)\n",
        "print('Displaying Confusion Matrix')\n",
        "print('==========================================================')\n",
        "plt.title('Confusion Matrix using InceptionResNetV2')\n",
        "plt.show()\n",
        "print('==========================================================')\n"
      ]
    },
    {
      "cell_type": "code",
      "execution_count": null,
      "metadata": {
        "id": "IcmgAiiJr31C"
      },
      "outputs": [],
      "source": [
        "\n",
        "\n",
        "cm = confusion_matrix(y_test, Y_pred)\n",
        "# Normalise\n",
        "cmn = cm.astype('float') / cm.sum(axis=1)[:, np.newaxis]\n",
        "fig, ax = plt.subplots(figsize=(6,6))\n",
        "sns.heatmap(cmn, annot=True, fmt='.2f', xticklabels=labels, yticklabels=labels)\n",
        "plt.title('Normalized Confusion Matrix using Xception')\n",
        "plt.ylabel('Actual label')\n",
        "plt.xlabel('Predicted label')\n",
        "plt.show(block=False)"
      ]
    },
    {
      "cell_type": "code",
      "execution_count": null,
      "metadata": {
        "id": "5LTbGvtTr6Vc",
        "colab": {
          "base_uri": "https://localhost:8080/"
        },
        "outputId": "9232bc5a-6cfb-405f-f58b-05d28b8c857d"
      },
      "outputs": [
        {
          "output_type": "stream",
          "name": "stdout",
          "text": [
            "0.9450981833729772\n",
            "0.9464084582677131\n",
            "0.9452301054650047\n",
            "0.9452301054650047\n"
          ]
        }
      ],
      "source": [
        "import sklearn\n",
        "from sklearn.metrics import recall_score\n",
        "from sklearn.metrics import precision_score\n",
        "from sklearn.metrics import f1_score\n",
        "from sklearn.metrics import accuracy_score\n",
        "print(f1_score(y_test, Y_pred,average='weighted'))\n",
        "print(precision_score(y_test, Y_pred,average='weighted'))\n",
        "print(recall_score(y_test, Y_pred,average='weighted'))\n",
        "print(accuracy_score(y_test, Y_pred))"
      ]
    },
    {
      "cell_type": "code",
      "execution_count": null,
      "metadata": {
        "id": "zfTpbcUwBxS0"
      },
      "outputs": [],
      "source": [
        "cce = tf.keras.losses.CategoricalCrossentropy()\n",
        "cce(y_test, Y_pred)"
      ]
    },
    {
      "cell_type": "code",
      "execution_count": null,
      "metadata": {
        "id": "0Jb0mr9i26qS"
      },
      "outputs": [],
      "source": [
        "!mkdir /content/gdrive/MyDrive/Saved_models_ham"
      ]
    },
    {
      "cell_type": "code",
      "execution_count": null,
      "metadata": {
        "id": "FzjBXkWm2xf-"
      },
      "outputs": [],
      "source": [
        "#saving the model\n",
        "from tensorflow.keras.models import load_model\n",
        "model.save('/content/gdrive/MyDrive/Saved_models_ham/res152_new_2.h5')\n",
        "\n"
      ]
    },
    {
      "cell_type": "markdown",
      "metadata": {
        "id": "PtslN9yK4lZS"
      },
      "source": [
        "# Ensemble Models\n",
        "\n",
        "\n",
        "\n"
      ]
    },
    {
      "cell_type": "markdown",
      "metadata": {
        "id": "-CJx_WTFxD_o"
      },
      "source": [
        "- Ensemble Model A- list models\n",
        "- Ensemble Model B- list models_2\n",
        "- Ensemble Model C- list models_3"
      ]
    },
    {
      "cell_type": "markdown",
      "metadata": {
        "id": "1ZZg3SHlb_Nu"
      },
      "source": [
        "Trying 3 ensembles with keeping Xception and InceptionResnetv2 common hence permutating the three pretrained models of ResNetV2 family.\n"
      ]
    },
    {
      "cell_type": "markdown",
      "metadata": {
        "id": "NjBQE1REa_xD"
      },
      "source": [
        "## Loading the pretrained models"
      ]
    },
    {
      "cell_type": "code",
      "execution_count": null,
      "metadata": {
        "id": "L3Rh5mhhbEKH"
      },
      "outputs": [],
      "source": [
        "from tensorflow.keras.models import load_model\n",
        "\n",
        "res_50 = load_model('/content/gdrive/MyDrive/HAM_10000_Results_final/Trained_Models/res_50_new.h5')\n",
        "res_101 = load_model('/content/gdrive/MyDrive/HAM_10000_Results_final/Trained_Models/res101_new.h5')\n",
        "res_152 = load_model('/content/gdrive/MyDrive/HAM_10000_Results_final/Trained_Models/res152_new_2.h5')\n",
        "incep_res = load_model('/content/gdrive/MyDrive/HAM_10000_Results_final/Trained_Models/incepres_new_2.h5')\n",
        "xcep = load_model('/content/gdrive/MyDrive/HAM_10000_Results_final/Trained_Models/xcp_96_new.h5')\n",
        "\n",
        "#model A\n",
        "models=list()\n",
        "models.append(res_50)\n",
        "models.append(res_101)\n",
        "models.append(res_152)\n",
        "models.append(incep_res)\n",
        "models.append(xcep)\n",
        "\n",
        "\n",
        "\n",
        "#model B\n",
        "models_2=list()\n",
        "models_2.append(res_101)\n",
        "models_2.append(incep_res)\n",
        "models_2.append(xcep)\n",
        "\n",
        "#model B\n",
        "models_3=list()\n",
        "models_3.append(res_152)\n",
        "models_3.append(incep_res)\n",
        "models_3.append(xcep)"
      ]
    },
    {
      "cell_type": "code",
      "source": [
        "models=list()\n",
        "models"
      ],
      "metadata": {
        "colab": {
          "base_uri": "https://localhost:8080/"
        },
        "id": "eX-TLTwqvjWb",
        "outputId": "092378c2-bea2-4067-8b71-af0804697aec"
      },
      "execution_count": null,
      "outputs": [
        {
          "output_type": "execute_result",
          "data": {
            "text/plain": [
              "[]"
            ]
          },
          "metadata": {},
          "execution_count": 8
        }
      ]
    },
    {
      "cell_type": "code",
      "source": [
        "models.append(res_50)\n",
        "models.append(res_101)\n",
        "models.append(res_152)\n",
        "models.append(incep_res)\n",
        "models.append(xcep)\n",
        "models"
      ],
      "metadata": {
        "colab": {
          "base_uri": "https://localhost:8080/"
        },
        "id": "ICzzy4FBv7Ag",
        "outputId": "a4b54bbc-4a76-41a9-8d35-02825be6c0c5"
      },
      "execution_count": null,
      "outputs": [
        {
          "output_type": "execute_result",
          "data": {
            "text/plain": [
              "[<keras.src.engine.sequential.Sequential at 0x78eb5cf92bc0>,\n",
              " <keras.src.engine.sequential.Sequential at 0x78eb5cf92c50>,\n",
              " <keras.src.engine.sequential.Sequential at 0x78eb5cf93dc0>,\n",
              " <keras.src.engine.sequential.Sequential at 0x78eb55fe0cd0>,\n",
              " <keras.src.engine.sequential.Sequential at 0x78eb570e3ca0>]"
            ]
          },
          "metadata": {},
          "execution_count": 9
        }
      ]
    },
    {
      "cell_type": "code",
      "source": [
        "preds = []"
      ],
      "metadata": {
        "id": "kk9FbvTTxZMB"
      },
      "execution_count": null,
      "outputs": []
    },
    {
      "cell_type": "code",
      "source": [
        "preds=[model.predict_generator(test_generator, num_of_test_samples// batch_size+1,workers=0) for model in models]\n",
        "preds = np.array(preds)\n",
        "preds.shape"
      ],
      "metadata": {
        "colab": {
          "base_uri": "https://localhost:8080/"
        },
        "id": "PLAXiH04v_7F",
        "outputId": "acae714d-a83b-4aec-d165-3a22ab62521e"
      },
      "execution_count": null,
      "outputs": [
        {
          "output_type": "execute_result",
          "data": {
            "text/plain": [
              "(5, 8344, 7)"
            ]
          },
          "metadata": {},
          "execution_count": 11
        }
      ]
    },
    {
      "cell_type": "code",
      "source": [
        "preds = preds.transpose((1, 0, 2))\n",
        "preds.shape"
      ],
      "metadata": {
        "colab": {
          "base_uri": "https://localhost:8080/"
        },
        "id": "MIxEDHilxUM7",
        "outputId": "15d77398-7ad3-4dcd-bca2-15f4700f45c7"
      },
      "execution_count": null,
      "outputs": [
        {
          "output_type": "execute_result",
          "data": {
            "text/plain": [
              "(8344, 5, 7)"
            ]
          },
          "metadata": {},
          "execution_count": 12
        }
      ]
    },
    {
      "cell_type": "code",
      "source": [
        "predictions_2d = preds.reshape(-1, preds.shape[1])\n",
        "# Calculate correlation matrix\n",
        "correlation_matrix = np.corrcoef(predictions_2d, rowvar=False)\n",
        "\n",
        "# Print correlation matrix\n",
        "print(\"Correlation matrix shape:\", correlation_matrix.shape)\n",
        "print(\"Correlation matrix:\")\n",
        "print(correlation_matrix)"
      ],
      "metadata": {
        "colab": {
          "base_uri": "https://localhost:8080/"
        },
        "id": "c1fCaIFn0Tpl",
        "outputId": "6da1eaf5-7697-4820-96f3-90020ee3788a"
      },
      "execution_count": null,
      "outputs": [
        {
          "output_type": "stream",
          "name": "stdout",
          "text": [
            "Correlation matrix shape: (5, 5)\n",
            "Correlation matrix:\n",
            "[[ 1.         -0.16450502 -0.16885489 -0.16510069 -0.16062096]\n",
            " [-0.16450502  1.         -0.16680799 -0.16747733 -0.16787404]\n",
            " [-0.16885489 -0.16680799  1.         -0.16760305 -0.16830651]\n",
            " [-0.16510069 -0.16747733 -0.16760305  1.         -0.16643608]\n",
            " [-0.16062096 -0.16787404 -0.16830651 -0.16643608  1.        ]]\n"
          ]
        }
      ]
    },
    {
      "cell_type": "code",
      "source": [
        "plt.figure(figsize=(8, 6))\n",
        "plt.imshow(correlation_matrix, cmap='coolwarm', interpolation='nearest')\n",
        "plt.colorbar()\n",
        "plt.title('Correlation Matrix of Model Predictions')\n",
        "plt.xlabel('Models')\n",
        "plt.ylabel('Models')\n",
        "plt.xticks(np.arange(preds.shape[1]), np.arange(1, preds.shape[1] + 1))\n",
        "plt.yticks(np.arange(preds.shape[1]), np.arange(1, preds.shape[1] + 1))\n",
        "plt.show()"
      ],
      "metadata": {
        "id": "e1aw2niP2Vxr"
      },
      "execution_count": null,
      "outputs": []
    },
    {
      "cell_type": "code",
      "source": [
        "\n",
        "num_instances = 8344\n",
        "num_models = 5\n",
        "\n",
        "predictions_flat = preds.reshape(num_models, -1)\n",
        "\n",
        "correlation_matrix = np.corrcoef(predictions_flat, rowvar=False)\n",
        "\n",
        "selected_models = []\n",
        "remaining_models = set(range(num_models))\n",
        "\n",
        "model_with_max_avg_corr = np.mean(correlation_matrix, axis=1).argmax()\n",
        "selected_models.append(model_with_max_avg_corr)\n",
        "remaining_models.remove(model_with_max_avg_corr)\n",
        "\n",
        "while len(selected_models) < 3:\n",
        "    lowest_corr = np.inf\n",
        "    best_model = None\n",
        "    for model in remaining_models:\n",
        "        avg_corr_with_selected = np.mean(correlation_matrix[model, selected_models])\n",
        "        if avg_corr_with_selected < lowest_corr:\n",
        "            lowest_corr = avg_corr_with_selected\n",
        "            best_model = model\n",
        "    selected_models.append(best_model)\n",
        "    remaining_models.remove(best_model)\n",
        "\n",
        "print(\"Selected models for stacking ensembling based on correlation analysis:\")\n",
        "for model in selected_models:\n",
        "    print(f\"Model_{model+1}\")\n",
        "\n",
        "plt.figure(figsize=(10, 8))\n",
        "plt.imshow(correlation_matrix, cmap='viridis', interpolation='nearest')\n",
        "plt.colorbar(label='Correlation')\n",
        "plt.title('Correlation Matrix of Model Predictions')\n",
        "plt.xticks(ticks=np.arange(num_models), labels=[f'Model_{i+1}' for i in range(num_models)], rotation=45)\n",
        "plt.yticks(ticks=np.arange(num_models), labels=[f'Model_{i+1}' for i in range(num_models)])\n",
        "plt.tight_layout()\n",
        "plt.show()"
      ],
      "metadata": {
        "id": "uNTw-2GfxuuL"
      },
      "execution_count": null,
      "outputs": []
    },
    {
      "cell_type": "code",
      "execution_count": null,
      "metadata": {
        "colab": {
          "base_uri": "https://localhost:8080/"
        },
        "id": "BcMd5cr50di5",
        "outputId": "188fa82c-4f6d-4635-bb4f-45e54891eea3"
      },
      "outputs": [
        {
          "name": "stdout",
          "output_type": "stream",
          "text": [
            "(3, 8344, 7)\n",
            "(8344, 7)\n",
            "Confusion Matrix\n",
            "[[1191    0    1    0    0    0    0]\n",
            " [   1 1185    2    0    1    3    0]\n",
            " [   3    1 1165    0   12   11    0]\n",
            " [   0    0    0 1191    0    1    0]\n",
            " [   1    0    4    0 1169   18    0]\n",
            " [   2    3   49    6   47 1081    4]\n",
            " [   0    0    0    0    0    0 1192]]\n",
            "                                                     \n",
            "Classification Report using Ensemble Model C\n",
            "              precision    recall  f1-score   support\n",
            "\n",
            "          nv       0.99      1.00      1.00      1192\n",
            "         mel       1.00      0.99      1.00      1192\n",
            "         bkl       0.95      0.98      0.97      1192\n",
            "         bcc       0.99      1.00      1.00      1192\n",
            "       akiec       0.95      0.98      0.97      1192\n",
            "        vasc       0.97      0.91      0.94      1192\n",
            "          df       1.00      1.00      1.00      1192\n",
            "\n",
            "    accuracy                           0.98      8344\n",
            "   macro avg       0.98      0.98      0.98      8344\n",
            "weighted avg       0.98      0.98      0.98      8344\n",
            "\n"
          ]
        }
      ],
      "source": [
        "y_test = np.array(test_generator.classes)[test_generator.index_array]\n",
        "preds_3=[model.predict_generator(test_generator, num_of_test_samples// batch_size+1,workers=0) for model in models]\n",
        "preds_3=np.array(preds_3)\n",
        "print(preds_3.shape)\n",
        "summed_3=np.sum(preds_3,axis=0)\n",
        "print(summed_3.shape)\n",
        "\n",
        "ensemble_prediction_3=np.argmax(summed_3,axis=1)\n",
        "\n",
        "print('Confusion Matrix')\n",
        "print(confusion_matrix(test_generator.classes, ensemble_prediction_3))\n",
        "print('                                                     ')\n",
        "print('Classification Report using Ensemble Model C')\n",
        "target_names = ['nv', 'mel', 'bkl','bcc','akiec','vasc','df']\n",
        "print(classification_report(test_generator.classes, ensemble_prediction_3, target_names=target_names))"
      ]
    },
    {
      "cell_type": "code",
      "execution_count": null,
      "metadata": {
        "colab": {
          "base_uri": "https://localhost:8080/"
        },
        "id": "jQuS8TGWI_fU",
        "outputId": "7dbe7bb8-6d16-496a-d796-6d4a0662789c"
      },
      "outputs": [
        {
          "data": {
            "text/plain": [
              "array([0, 0, 0, ..., 6, 6, 6], dtype=int32)"
            ]
          },
          "execution_count": 24,
          "metadata": {},
          "output_type": "execute_result"
        }
      ],
      "source": [
        "test_generator.classes"
      ]
    },
    {
      "cell_type": "code",
      "execution_count": null,
      "metadata": {
        "colab": {
          "base_uri": "https://localhost:8080/"
        },
        "id": "FKvq5DIwJJRS",
        "outputId": "8bf28052-1409-4df5-f62f-c7826d45ab83"
      },
      "outputs": [
        {
          "data": {
            "text/plain": [
              "array([0.7688231 , 0.03852961, 0.03859734, 0.03849344, 0.03856171,\n",
              "       0.03850135, 0.03849335], dtype=float32)"
            ]
          },
          "execution_count": 25,
          "metadata": {},
          "output_type": "execute_result"
        }
      ],
      "source": [
        "def softmax(x):\n",
        "    e_x = np.exp(x - np.max(x))  # Subtracting the maximum value for numerical stability\n",
        "    return e_x / e_x.sum(axis=0)\n",
        "\n",
        "output_vectors = np.array([softmax(vector) for vector in summed_3])\n",
        "print(output_vectors[0])\n",
        "\n",
        "# Using 'auto'/'sum_over_batch_size' reduction type.\n",
        "scce = tf.keras.losses.SparseCategoricalCrossentropy()\n",
        "scce(test_generator.classes, output_vectors).numpy()"
      ]
    },
    {
      "cell_type": "code",
      "execution_count": null,
      "metadata": {
        "colab": {
          "base_uri": "https://localhost:8080/"
        },
        "id": "xH2xTStcJtqk",
        "outputId": "0159df8e-be77-47cb-e993-55905c356113"
      },
      "outputs": [
        {
          "data": {
            "text/plain": [
              "0.34214222"
            ]
          },
          "execution_count": 26,
          "metadata": {},
          "output_type": "execute_result"
        }
      ],
      "source": [
        "\n",
        "# Using 'auto'/'sum_over_batch_size' reduction type.\n",
        "scce = tf.keras.losses.SparseCategoricalCrossentropy()\n",
        "scce(test_generator.classes, output_vectors).numpy()"
      ]
    },
    {
      "cell_type": "code",
      "execution_count": null,
      "metadata": {
        "id": "MS0NXnHmc4EK"
      },
      "outputs": [],
      "source": [
        "print('Classification Report using Ensemble Model C')\n",
        "target_names = ['nv', 'mel', 'bkl','bcc','akiec','vasc','df']\n",
        "print(classification_report(test_generator.classes, ensemble_prediction_3, target_names=target_names))"
      ]
    },
    {
      "cell_type": "code",
      "execution_count": null,
      "metadata": {
        "id": "GeKS6QxR6e0j"
      },
      "outputs": [],
      "source": [
        "from sklearn.metrics import ConfusionMatrixDisplay\n",
        "from sklearn.metrics import confusion_matrix\n",
        "import matplotlib.pyplot as plt\n",
        "import numpy as np\n",
        "cm = confusion_matrix(test_generator.classes, ensemble_prediction_3)\n",
        "labels = ['nv', 'mel', 'bkl','bcc','akiec','vasc','df']\n",
        "\n",
        "disp = ConfusionMatrixDisplay(confusion_matrix=cm, display_labels=labels)\n",
        "\n",
        "disp.plot(cmap=plt.cm.Reds_r)\n",
        "print('Displaying Confusion Matrix')\n",
        "print('==========================================================')\n",
        "plt.title('Confusion Matrix using Ensemble Model C')\n",
        "plt.show()\n",
        "print('==========================================================')"
      ]
    },
    {
      "cell_type": "code",
      "execution_count": null,
      "metadata": {
        "id": "32ZqLs-V6vtM"
      },
      "outputs": [],
      "source": [
        "from sklearn.metrics import confusion_matrix\n",
        "import seaborn as sns\n",
        "\n",
        "cm = confusion_matrix(test_generator.classes, ensemble_prediction_3)\n",
        "# Normalise\n",
        "cmn = cm.astype('float') / cm.sum(axis=1)[:, np.newaxis]\n",
        "fig, ax = plt.subplots(figsize=(6,6))\n",
        "sns.heatmap(cmn, annot=True, fmt='.2f', xticklabels=labels, yticklabels=labels)\n",
        "plt.title(' Normalized Confusion Matrix using Ensemble Model C')\n",
        "plt.ylabel('Actual label')\n",
        "plt.xlabel('Predicted label')\n",
        "plt.show(block=False)"
      ]
    },
    {
      "cell_type": "code",
      "execution_count": null,
      "metadata": {
        "id": "GLetdEVt66UL"
      },
      "outputs": [],
      "source": [
        "import sklearn\n",
        "from sklearn.metrics import recall_score\n",
        "from sklearn.metrics import precision_score\n",
        "from sklearn.metrics import f1_score\n",
        "from sklearn.metrics import accuracy_score\n",
        "print(f1_score(test_generator.classes, ensemble_prediction_3,average='weighted'))\n",
        "print(precision_score(test_generator.classes, ensemble_prediction_3,average='weighted'))\n",
        "print(recall_score(test_generator.classes, ensemble_prediction_3,average='weighted'))\n",
        "print(accuracy_score(test_generator.classes, ensemble_prediction_3))"
      ]
    }
  ],
  "metadata": {
    "accelerator": "GPU",
    "colab": {
      "collapsed_sections": [
        "YPtb2M1EaGoD",
        "OIaiaHbdaJtD",
        "b40LGx5jvWTV",
        "HYUF_KanuwYc",
        "1u8lBR70uNhl",
        "GlXY87C6uO8J",
        "PtslN9yK4lZS"
      ],
      "provenance": []
    },
    "gpuClass": "standard",
    "kernelspec": {
      "display_name": "Python 3",
      "name": "python3"
    },
    "language_info": {
      "name": "python"
    }
  },
  "nbformat": 4,
  "nbformat_minor": 0
}